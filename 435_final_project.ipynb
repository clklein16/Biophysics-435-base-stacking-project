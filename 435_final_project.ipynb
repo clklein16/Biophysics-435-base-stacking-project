{
  "nbformat": 4,
  "nbformat_minor": 0,
  "metadata": {
    "colab": {
      "name": "435 final project.ipynb",
      "provenance": [],
      "collapsed_sections": []
    },
    "kernelspec": {
      "name": "python3",
      "display_name": "Python 3"
    }
  },
  "cells": [
    {
      "cell_type": "markdown",
      "metadata": {
        "id": "gbCI_UdsuNv7",
        "colab_type": "text"
      },
      "source": [
        "# Carl Klein - Biophysics 435 Final Project: Predicting Base Stacking and SASA for RNA"
      ]
    },
    {
      "cell_type": "code",
      "metadata": {
        "id": "dGPiVS-NOdug",
        "colab_type": "code",
        "colab": {}
      },
      "source": [
        "import numpy as np\n",
        "from sklearn.preprocessing import StandardScaler\n",
        "from sklearn.neural_network import MLPClassifier\n",
        "from sklearn.metrics import f1_score\n",
        "from time import time\n",
        "from scipy.stats import randint as sp_randint\n",
        "from sklearn.model_selection import RandomizedSearchCV\n",
        "from sklearn.metrics import classification_report\n",
        "\n",
        "import pandas as pd\n",
        "import io\n",
        "import requests\n",
        "import warnings\n",
        "from scipy.stats import randint as sp_randint\n",
        "from scipy.stats import expon as sp_expon"
      ],
      "execution_count": 0,
      "outputs": []
    },
    {
      "cell_type": "code",
      "metadata": {
        "id": "al2GhuFEJyNG",
        "colab_type": "code",
        "colab": {}
      },
      "source": [
        "# Global variable \n",
        "NUMBER_CHEMICAL_SHIFT_TYPE = 19\n",
        "\n",
        "def get_cs_all(cs_all, id = \"2KOC\"):\n",
        "  '''    \n",
        "    This function gets chemical shifts for a particular RNA. \n",
        "    Assumes each RNA has a unique id  \n",
        "  '''\n",
        "  return(cs_all[(cs_all.id == id)])\n",
        "\n",
        "def get_cs_residues(cs_i, resid, dummy = 0):\n",
        "  '''    \n",
        "    This function return an array containing the chemical shifts for a particular residues in an RNA.    \n",
        "  '''\n",
        "  cs_tmp = cs_i[(cs_i.resid == resid)].drop(['id', 'resid', 'resname', 'stacking', 'orientation', 'pseudoknot', 'base_pairing', 'sugar_puckering'], axis=1)\n",
        "  info_tmp = cs_i[(cs_i.resid == resid)]\n",
        "  if (cs_tmp.shape[0] != 1):\n",
        "     return(dummy*np.ones(shape=(1, NUMBER_CHEMICAL_SHIFT_TYPE)))\n",
        "  else:\n",
        "     return(cs_tmp.values)\n",
        "    \n",
        "def get_resnames(cs_i, resid, dummy = \"UNK\"):\n",
        "  '''    \n",
        "    This function returns the residue name for specified residue (resid)\n",
        "  '''\n",
        "  cs_tmp = cs_i[(cs_i.resid == resid)]  \n",
        "  if (cs_tmp.shape[0] != 1):\n",
        "     return(dummy)\n",
        "  else:\n",
        "     return(cs_tmp['resname'].values[0])\n",
        "\n",
        "def get_cs_features(cs_i, resid, neighbors=1):\n",
        "  '''    \n",
        "  This function chemical shifts and resnames for residue (resid) and its neighbors        \n",
        "\n",
        "  '''\n",
        "  cs = []\n",
        "  resnames = []\n",
        "  for i in range(resid-neighbors, resid+neighbors+1):\n",
        "    cs.append(get_cs_residues(cs_i, i))\n",
        "    resnames.append(get_resnames(cs_i, i))\n",
        "  return(resnames, np.array(cs))\n",
        "\n",
        "def get_columns_names(neighbors = 3, chemical_shift_types = 19):\n",
        "  '''\n",
        "    \n",
        "    Helper function that writes out the required column names\n",
        "    \n",
        "  '''\n",
        "\n",
        "  columns = ['id', 'resname', 'resid', 'stacking', 'orientation', 'pseudoknot', 'base_pairing', 'sugar_puckering']\n",
        "  for i in range(0, neighbors*chemical_shift_types):\n",
        "    columns.append(i)\n",
        "  return(columns)\n",
        "\n",
        "def write_out_resname(neighbors=1):\n",
        "  '''\n",
        "  \n",
        "    Helper function that writes out the column names associated resnames for a given residue and its neighbors\n",
        "    \n",
        "  '''  \n",
        "  colnames = []\n",
        "  for i in range(1-neighbors-1, neighbors+1):\n",
        "    if i < 0: \n",
        "      colnames.append('R%s'%i)\n",
        "    elif i > 0: \n",
        "      colnames.append('R+%s'%i)\n",
        "    else: \n",
        "      colnames.append('R')\n",
        "  return(colnames)    \n",
        "\n",
        "\n",
        "def get_cs_features_rna(cs, neighbors=1, retain = ['id', 'stacking', 'resid', 'orientation', 'pseudoknot', 'base_pairing', 'sugar_puckering']):\n",
        "  '''    \n",
        "    This function generates the complete required data frame an RNA    \n",
        "  '''\n",
        "  all_features = []\n",
        "  all_resnames = []\n",
        "  for resid in cs['resid'].unique():\n",
        "    resnames, features = get_cs_features(cs, resid, neighbors)\n",
        "    all_features.append(features.flatten())\n",
        "    all_resnames.append(resnames)\n",
        "\n",
        "  all_resnames = pd.DataFrame(all_resnames, dtype='object', columns = write_out_resname(neighbors))\n",
        "  all_features = pd.DataFrame(all_features, dtype='object')\n",
        "  info = pd.DataFrame(cs[retain].values, dtype='object', columns = retain)\n",
        "  return(pd.concat([info, all_resnames, all_features], axis=1))"
      ],
      "execution_count": 0,
      "outputs": []
    },
    {
      "cell_type": "code",
      "metadata": {
        "id": "PYuL1KewSo3n",
        "colab_type": "code",
        "colab": {}
      },
      "source": [
        "# Start: your code\n",
        "def get_cs_features_rna_all(cs, neighbors = 2, retain = ['id', 'stacking', 'resid', 'orientation', 'pseudoknot', 'base_pairing', 'sugar_puckering']):\n",
        "  ids = cs['id'].unique()\n",
        "  for i,id in enumerate(ids):\n",
        "    if i == 0:\n",
        "      cs_new = get_cs_features_rna(get_cs_all(cs, id), neighbors)\n",
        "    else:\n",
        "      cs_new = cs_new.append(get_cs_features_rna(get_cs_all(cs, id), neighbors), sort = False)\n",
        "  \n",
        "  # End: your code\n",
        "  return(cs_new)"
      ],
      "execution_count": 0,
      "outputs": []
    },
    {
      "cell_type": "code",
      "metadata": {
        "id": "SIxAxfOoWWeP",
        "colab_type": "code",
        "colab": {
          "base_uri": "https://localhost:8080/",
          "height": 354
        },
        "outputId": "de4209ad-855a-483f-c09a-ccff7a975543"
      },
      "source": [
        "!apt-get -qq install -y python-rdkit librdkit1 rdkit-data"
      ],
      "execution_count": 4,
      "outputs": [
        {
          "output_type": "stream",
          "text": [
            "Selecting previously unselected package fonts-freefont-ttf.\n",
            "(Reading database ... 134985 files and directories currently installed.)\n",
            "Preparing to unpack .../fonts-freefont-ttf_20120503-7_all.deb ...\n",
            "Unpacking fonts-freefont-ttf (20120503-7) ...\n",
            "Selecting previously unselected package librdkit1.\n",
            "Preparing to unpack .../librdkit1_201603.5+dfsg-1ubuntu1_amd64.deb ...\n",
            "Unpacking librdkit1 (201603.5+dfsg-1ubuntu1) ...\n",
            "Selecting previously unselected package rdkit-data.\n",
            "Preparing to unpack .../rdkit-data_201603.5+dfsg-1ubuntu1_all.deb ...\n",
            "Unpacking rdkit-data (201603.5+dfsg-1ubuntu1) ...\n",
            "Selecting previously unselected package python-rdkit.\n",
            "Preparing to unpack .../python-rdkit_201603.5+dfsg-1ubuntu1_amd64.deb ...\n",
            "Unpacking python-rdkit (201603.5+dfsg-1ubuntu1) ...\n",
            "Setting up rdkit-data (201603.5+dfsg-1ubuntu1) ...\n",
            "Setting up fonts-freefont-ttf (20120503-7) ...\n",
            "Setting up librdkit1 (201603.5+dfsg-1ubuntu1) ...\n",
            "Setting up python-rdkit (201603.5+dfsg-1ubuntu1) ...\n",
            "Processing triggers for libc-bin (2.27-3ubuntu1) ...\n",
            "Processing triggers for fontconfig (2.12.6-0ubuntu2) ...\n"
          ],
          "name": "stdout"
        }
      ]
    },
    {
      "cell_type": "code",
      "metadata": {
        "id": "0DHsTwq2WfXd",
        "colab_type": "code",
        "colab": {
          "base_uri": "https://localhost:8080/",
          "height": 52
        },
        "outputId": "d9c6a3f4-449d-468f-ba4b-9a397b01fe0c"
      },
      "source": [
        "!pip install -q joblib pandas sklearn tensorflow pillow deepchem"
      ],
      "execution_count": 5,
      "outputs": [
        {
          "output_type": "stream",
          "text": [
            "\u001b[K     |████████████████████████████████| 3.9MB 2.8MB/s \n",
            "\u001b[?25h  Building wheel for deepchem (setup.py) ... \u001b[?25l\u001b[?25hdone\n"
          ],
          "name": "stdout"
        }
      ]
    },
    {
      "cell_type": "code",
      "metadata": {
        "id": "00yOiD0VWjkT",
        "colab_type": "code",
        "colab": {
          "base_uri": "https://localhost:8080/",
          "height": 63
        },
        "outputId": "138bc184-d968-454e-e89b-739817703b79"
      },
      "source": [
        "import numpy as np\n",
        "import tensorflow as tf"
      ],
      "execution_count": 6,
      "outputs": [
        {
          "output_type": "display_data",
          "data": {
            "text/html": [
              "<p style=\"color: red;\">\n",
              "The default version of TensorFlow in Colab will soon switch to TensorFlow 2.x.<br>\n",
              "We recommend you <a href=\"https://www.tensorflow.org/guide/migrate\" target=\"_blank\">upgrade</a> now \n",
              "or ensure your notebook will continue to use TensorFlow 1.x via the <code>%tensorflow_version 1.x</code> magic:\n",
              "<a href=\"https://colab.research.google.com/notebooks/tensorflow_version.ipynb\" target=\"_blank\">more info</a>.</p>\n"
            ],
            "text/plain": [
              "<IPython.core.display.HTML object>"
            ]
          },
          "metadata": {
            "tags": []
          }
        }
      ]
    },
    {
      "cell_type": "code",
      "metadata": {
        "id": "OMHKxB-pOvu6",
        "colab_type": "code",
        "colab": {}
      },
      "source": [
        "#get the dataset and store it in a Pandas Dataframe\n",
        "url=\"https://drive.google.com/uc?id=1e-SHtWDtg4mD_th3_4Jmq9r1iiQC32wT\"\n",
        "s=requests.get(url).content\n",
        "c=pd.read_csv(io.StringIO(s.decode('utf-8')), sep= \" \")"
      ],
      "execution_count": 0,
      "outputs": []
    },
    {
      "cell_type": "code",
      "metadata": {
        "id": "B_xqsMpofnvA",
        "colab_type": "code",
        "outputId": "1cd7b94b-a257-46d3-eb3f-038475a8f748",
        "colab": {
          "base_uri": "https://localhost:8080/",
          "height": 406
        }
      },
      "source": [
        "#dataset prior to one-hot encoding\n",
        "cs_all = get_cs_features_rna_all(c, neighbors = 0)\n",
        "\n",
        "cs_all"
      ],
      "execution_count": 10,
      "outputs": [
        {
          "output_type": "execute_result",
          "data": {
            "text/html": [
              "<div>\n",
              "<style scoped>\n",
              "    .dataframe tbody tr th:only-of-type {\n",
              "        vertical-align: middle;\n",
              "    }\n",
              "\n",
              "    .dataframe tbody tr th {\n",
              "        vertical-align: top;\n",
              "    }\n",
              "\n",
              "    .dataframe thead th {\n",
              "        text-align: right;\n",
              "    }\n",
              "</style>\n",
              "<table border=\"1\" class=\"dataframe\">\n",
              "  <thead>\n",
              "    <tr style=\"text-align: right;\">\n",
              "      <th></th>\n",
              "      <th>id</th>\n",
              "      <th>stacking</th>\n",
              "      <th>resid</th>\n",
              "      <th>orientation</th>\n",
              "      <th>pseudoknot</th>\n",
              "      <th>base_pairing</th>\n",
              "      <th>sugar_puckering</th>\n",
              "      <th>R</th>\n",
              "      <th>0</th>\n",
              "      <th>1</th>\n",
              "      <th>2</th>\n",
              "      <th>3</th>\n",
              "      <th>4</th>\n",
              "      <th>5</th>\n",
              "      <th>6</th>\n",
              "      <th>7</th>\n",
              "      <th>8</th>\n",
              "      <th>9</th>\n",
              "      <th>10</th>\n",
              "      <th>11</th>\n",
              "      <th>12</th>\n",
              "      <th>13</th>\n",
              "      <th>14</th>\n",
              "      <th>15</th>\n",
              "      <th>16</th>\n",
              "      <th>17</th>\n",
              "      <th>18</th>\n",
              "      <th>19</th>\n",
              "    </tr>\n",
              "  </thead>\n",
              "  <tbody>\n",
              "    <tr>\n",
              "      <th>0</th>\n",
              "      <td>1A60</td>\n",
              "      <td>stack</td>\n",
              "      <td>1</td>\n",
              "      <td>anti</td>\n",
              "      <td>non-pseudoknotted</td>\n",
              "      <td>0</td>\n",
              "      <td>~C3'-endo</td>\n",
              "      <td>GUA</td>\n",
              "      <td>0</td>\n",
              "      <td>92.7</td>\n",
              "      <td>74.9</td>\n",
              "      <td>72</td>\n",
              "      <td>82.5</td>\n",
              "      <td>65.4</td>\n",
              "      <td>153.6</td>\n",
              "      <td>109.8</td>\n",
              "      <td>157</td>\n",
              "      <td>142.1</td>\n",
              "      <td>5.65</td>\n",
              "      <td>4.5</td>\n",
              "      <td>4.12</td>\n",
              "      <td>4.23</td>\n",
              "      <td>7.469</td>\n",
              "      <td>6.124</td>\n",
              "      <td>4.07</td>\n",
              "      <td>3.99</td>\n",
              "      <td>8.413</td>\n",
              "      <td>8.03</td>\n",
              "    </tr>\n",
              "    <tr>\n",
              "      <th>1</th>\n",
              "      <td>1A60</td>\n",
              "      <td>stack</td>\n",
              "      <td>2</td>\n",
              "      <td>anti</td>\n",
              "      <td>non-pseudoknotted</td>\n",
              "      <td>0</td>\n",
              "      <td>~C3'-endo</td>\n",
              "      <td>GUA</td>\n",
              "      <td>1</td>\n",
              "      <td>91.9</td>\n",
              "      <td>75.7</td>\n",
              "      <td>72.4</td>\n",
              "      <td>82.3</td>\n",
              "      <td>66.1</td>\n",
              "      <td>155.207</td>\n",
              "      <td>118.377</td>\n",
              "      <td>160.7</td>\n",
              "      <td>141.4</td>\n",
              "      <td>5.88</td>\n",
              "      <td>4.6</td>\n",
              "      <td>4.5</td>\n",
              "      <td>4.31</td>\n",
              "      <td>7.83</td>\n",
              "      <td>5.549</td>\n",
              "      <td>4.2</td>\n",
              "      <td>4.15</td>\n",
              "      <td>7.871</td>\n",
              "      <td>7.49</td>\n",
              "    </tr>\n",
              "    <tr>\n",
              "      <th>2</th>\n",
              "      <td>1A60</td>\n",
              "      <td>stack</td>\n",
              "      <td>3</td>\n",
              "      <td>anti</td>\n",
              "      <td>non-pseudoknotted</td>\n",
              "      <td>0</td>\n",
              "      <td>~C3'-endo</td>\n",
              "      <td>GUA</td>\n",
              "      <td>2</td>\n",
              "      <td>92.2</td>\n",
              "      <td>76.1</td>\n",
              "      <td>72.3</td>\n",
              "      <td>84.7</td>\n",
              "      <td>66</td>\n",
              "      <td>154.079</td>\n",
              "      <td>120.289</td>\n",
              "      <td>160.7</td>\n",
              "      <td>141.2</td>\n",
              "      <td>5.77</td>\n",
              "      <td>4.5</td>\n",
              "      <td>4.09</td>\n",
              "      <td>4.19</td>\n",
              "      <td>7.776</td>\n",
              "      <td>5.651</td>\n",
              "      <td>4.1</td>\n",
              "      <td>4.08</td>\n",
              "      <td>7.904</td>\n",
              "      <td>7.24</td>\n",
              "    </tr>\n",
              "    <tr>\n",
              "      <th>3</th>\n",
              "      <td>1A60</td>\n",
              "      <td>stack</td>\n",
              "      <td>4</td>\n",
              "      <td>anti</td>\n",
              "      <td>non-pseudoknotted</td>\n",
              "      <td>0</td>\n",
              "      <td>~C3'-endo</td>\n",
              "      <td>ADE</td>\n",
              "      <td>3</td>\n",
              "      <td>92.2</td>\n",
              "      <td>75</td>\n",
              "      <td>72</td>\n",
              "      <td>81.2</td>\n",
              "      <td>65.8</td>\n",
              "      <td>153.7</td>\n",
              "      <td>118.8</td>\n",
              "      <td>157.085</td>\n",
              "      <td>139.1</td>\n",
              "      <td>5.96</td>\n",
              "      <td>4.57</td>\n",
              "      <td>4.53</td>\n",
              "      <td>4.54</td>\n",
              "      <td>7.52</td>\n",
              "      <td>5.932</td>\n",
              "      <td>4.28</td>\n",
              "      <td>4.11</td>\n",
              "      <td>8.413</td>\n",
              "      <td>7.68</td>\n",
              "    </tr>\n",
              "    <tr>\n",
              "      <th>4</th>\n",
              "      <td>1A60</td>\n",
              "      <td>stack</td>\n",
              "      <td>5</td>\n",
              "      <td>anti</td>\n",
              "      <td>non-pseudoknotted</td>\n",
              "      <td>0</td>\n",
              "      <td>~C3'-endo</td>\n",
              "      <td>GUA</td>\n",
              "      <td>4</td>\n",
              "      <td>92.2</td>\n",
              "      <td>74.8</td>\n",
              "      <td>71.8</td>\n",
              "      <td>85.7</td>\n",
              "      <td>65.4</td>\n",
              "      <td>155.07</td>\n",
              "      <td>118.2</td>\n",
              "      <td>161.165</td>\n",
              "      <td>136.1</td>\n",
              "      <td>5.63</td>\n",
              "      <td>4.43</td>\n",
              "      <td>4.4</td>\n",
              "      <td>4.18</td>\n",
              "      <td>7.793</td>\n",
              "      <td>5.988</td>\n",
              "      <td>4.18</td>\n",
              "      <td>4.07</td>\n",
              "      <td>8.522</td>\n",
              "      <td>7</td>\n",
              "    </tr>\n",
              "    <tr>\n",
              "      <th>...</th>\n",
              "      <td>...</td>\n",
              "      <td>...</td>\n",
              "      <td>...</td>\n",
              "      <td>...</td>\n",
              "      <td>...</td>\n",
              "      <td>...</td>\n",
              "      <td>...</td>\n",
              "      <td>...</td>\n",
              "      <td>...</td>\n",
              "      <td>...</td>\n",
              "      <td>...</td>\n",
              "      <td>...</td>\n",
              "      <td>...</td>\n",
              "      <td>...</td>\n",
              "      <td>...</td>\n",
              "      <td>...</td>\n",
              "      <td>...</td>\n",
              "      <td>...</td>\n",
              "      <td>...</td>\n",
              "      <td>...</td>\n",
              "      <td>...</td>\n",
              "      <td>...</td>\n",
              "      <td>...</td>\n",
              "      <td>...</td>\n",
              "      <td>...</td>\n",
              "      <td>...</td>\n",
              "      <td>...</td>\n",
              "      <td>...</td>\n",
              "    </tr>\n",
              "    <tr>\n",
              "      <th>18</th>\n",
              "      <td>5WQ1</td>\n",
              "      <td>stack</td>\n",
              "      <td>19</td>\n",
              "      <td>anti</td>\n",
              "      <td>non-pseudoknotted</td>\n",
              "      <td>0</td>\n",
              "      <td>~C3'-endo</td>\n",
              "      <td>URA</td>\n",
              "      <td>3347</td>\n",
              "      <td>93.656</td>\n",
              "      <td>71.924</td>\n",
              "      <td>72.503</td>\n",
              "      <td>80.33</td>\n",
              "      <td>64.042</td>\n",
              "      <td>152.055</td>\n",
              "      <td>103.523</td>\n",
              "      <td>141.5</td>\n",
              "      <td>139.8</td>\n",
              "      <td>5.494</td>\n",
              "      <td>4.558</td>\n",
              "      <td>4.422</td>\n",
              "      <td>4.561</td>\n",
              "      <td>7.4</td>\n",
              "      <td>5.216</td>\n",
              "      <td>4.469</td>\n",
              "      <td>4.085</td>\n",
              "      <td>7.618</td>\n",
              "      <td>7.914</td>\n",
              "    </tr>\n",
              "    <tr>\n",
              "      <th>19</th>\n",
              "      <td>5WQ1</td>\n",
              "      <td>stack</td>\n",
              "      <td>20</td>\n",
              "      <td>anti</td>\n",
              "      <td>non-pseudoknotted</td>\n",
              "      <td>0</td>\n",
              "      <td>~C3'-endo</td>\n",
              "      <td>GUA</td>\n",
              "      <td>3348</td>\n",
              "      <td>92.923</td>\n",
              "      <td>75.273</td>\n",
              "      <td>73.402</td>\n",
              "      <td>82.035</td>\n",
              "      <td>65.331</td>\n",
              "      <td>155.24</td>\n",
              "      <td>118.7</td>\n",
              "      <td>161.6</td>\n",
              "      <td>136.271</td>\n",
              "      <td>5.779</td>\n",
              "      <td>4.496</td>\n",
              "      <td>4.583</td>\n",
              "      <td>4.502</td>\n",
              "      <td>7.947</td>\n",
              "      <td>5.932</td>\n",
              "      <td>4.504</td>\n",
              "      <td>4.127</td>\n",
              "      <td>7.93</td>\n",
              "      <td>7.702</td>\n",
              "    </tr>\n",
              "    <tr>\n",
              "      <th>20</th>\n",
              "      <td>5WQ1</td>\n",
              "      <td>stack</td>\n",
              "      <td>21</td>\n",
              "      <td>anti</td>\n",
              "      <td>non-pseudoknotted</td>\n",
              "      <td>0</td>\n",
              "      <td>~C3'-endo</td>\n",
              "      <td>URA</td>\n",
              "      <td>3349</td>\n",
              "      <td>93.692</td>\n",
              "      <td>75.31</td>\n",
              "      <td>73.04</td>\n",
              "      <td>82.92</td>\n",
              "      <td>64.482</td>\n",
              "      <td>153.472</td>\n",
              "      <td>102.537</td>\n",
              "      <td>141.916</td>\n",
              "      <td>141.418</td>\n",
              "      <td>5.537</td>\n",
              "      <td>4.481</td>\n",
              "      <td>4.25</td>\n",
              "      <td>4.291</td>\n",
              "      <td>7.043</td>\n",
              "      <td>5.094</td>\n",
              "      <td>4.478</td>\n",
              "      <td>4.08</td>\n",
              "      <td>7.823</td>\n",
              "      <td>8.3</td>\n",
              "    </tr>\n",
              "    <tr>\n",
              "      <th>21</th>\n",
              "      <td>5WQ1</td>\n",
              "      <td>stack</td>\n",
              "      <td>22</td>\n",
              "      <td>anti</td>\n",
              "      <td>non-pseudoknotted</td>\n",
              "      <td>0</td>\n",
              "      <td>~C3'-endo</td>\n",
              "      <td>CYT</td>\n",
              "      <td>3350</td>\n",
              "      <td>94.159</td>\n",
              "      <td>75.698</td>\n",
              "      <td>69.764</td>\n",
              "      <td>81.554</td>\n",
              "      <td>64.533</td>\n",
              "      <td>158.72</td>\n",
              "      <td>97.531</td>\n",
              "      <td>141.939</td>\n",
              "      <td>140.551</td>\n",
              "      <td>5.587</td>\n",
              "      <td>4.233</td>\n",
              "      <td>4.471</td>\n",
              "      <td>4.413</td>\n",
              "      <td>7.046</td>\n",
              "      <td>5.634</td>\n",
              "      <td>4.526</td>\n",
              "      <td>4.072</td>\n",
              "      <td>7.894</td>\n",
              "      <td>7.706</td>\n",
              "    </tr>\n",
              "    <tr>\n",
              "      <th>22</th>\n",
              "      <td>5WQ1</td>\n",
              "      <td>stack</td>\n",
              "      <td>23</td>\n",
              "      <td>anti</td>\n",
              "      <td>non-pseudoknotted</td>\n",
              "      <td>0</td>\n",
              "      <td>~C3'-endo</td>\n",
              "      <td>CYT</td>\n",
              "      <td>3351</td>\n",
              "      <td>92.794</td>\n",
              "      <td>77.513</td>\n",
              "      <td>69.687</td>\n",
              "      <td>83.394</td>\n",
              "      <td>65.073</td>\n",
              "      <td>159.7</td>\n",
              "      <td>97.942</td>\n",
              "      <td>141.78</td>\n",
              "      <td>141.968</td>\n",
              "      <td>5.719</td>\n",
              "      <td>4.064</td>\n",
              "      <td>4.195</td>\n",
              "      <td>4.151</td>\n",
              "      <td>8.1</td>\n",
              "      <td>5.52</td>\n",
              "      <td>4.333</td>\n",
              "      <td>4.012</td>\n",
              "      <td>7.661</td>\n",
              "      <td>7.9548</td>\n",
              "    </tr>\n",
              "  </tbody>\n",
              "</table>\n",
              "<p>3068 rows × 28 columns</p>\n",
              "</div>"
            ],
            "text/plain": [
              "      id stacking resid orientation  ...     16     17     18      19\n",
              "0   1A60    stack     1        anti  ...   4.07   3.99  8.413    8.03\n",
              "1   1A60    stack     2        anti  ...    4.2   4.15  7.871    7.49\n",
              "2   1A60    stack     3        anti  ...    4.1   4.08  7.904    7.24\n",
              "3   1A60    stack     4        anti  ...   4.28   4.11  8.413    7.68\n",
              "4   1A60    stack     5        anti  ...   4.18   4.07  8.522       7\n",
              "..   ...      ...   ...         ...  ...    ...    ...    ...     ...\n",
              "18  5WQ1    stack    19        anti  ...  4.469  4.085  7.618   7.914\n",
              "19  5WQ1    stack    20        anti  ...  4.504  4.127   7.93   7.702\n",
              "20  5WQ1    stack    21        anti  ...  4.478   4.08  7.823     8.3\n",
              "21  5WQ1    stack    22        anti  ...  4.526  4.072  7.894   7.706\n",
              "22  5WQ1    stack    23        anti  ...  4.333  4.012  7.661  7.9548\n",
              "\n",
              "[3068 rows x 28 columns]"
            ]
          },
          "metadata": {
            "tags": []
          },
          "execution_count": 10
        }
      ]
    },
    {
      "cell_type": "code",
      "metadata": {
        "id": "Atgdfe35oEFc",
        "colab_type": "code",
        "colab": {}
      },
      "source": [
        "#encode the data in the stacking column\n",
        "from sklearn.preprocessing import LabelEncoder\n",
        "labelencoder = LabelEncoder()\n",
        "cs_all['stacking']= labelencoder.fit_transform(cs_all['stacking'])"
      ],
      "execution_count": 0,
      "outputs": []
    },
    {
      "cell_type": "code",
      "metadata": {
        "id": "OBtGocD-tQ5K",
        "colab_type": "code",
        "outputId": "69632ab6-8b3a-49bd-8135-2419dacdf2be",
        "colab": {
          "base_uri": "https://localhost:8080/",
          "height": 347
        }
      },
      "source": [
        "#cs_all dataset with encoded stacking data\n",
        "cs_all.head(n=10)"
      ],
      "execution_count": 12,
      "outputs": [
        {
          "output_type": "execute_result",
          "data": {
            "text/html": [
              "<div>\n",
              "<style scoped>\n",
              "    .dataframe tbody tr th:only-of-type {\n",
              "        vertical-align: middle;\n",
              "    }\n",
              "\n",
              "    .dataframe tbody tr th {\n",
              "        vertical-align: top;\n",
              "    }\n",
              "\n",
              "    .dataframe thead th {\n",
              "        text-align: right;\n",
              "    }\n",
              "</style>\n",
              "<table border=\"1\" class=\"dataframe\">\n",
              "  <thead>\n",
              "    <tr style=\"text-align: right;\">\n",
              "      <th></th>\n",
              "      <th>id</th>\n",
              "      <th>stacking</th>\n",
              "      <th>resid</th>\n",
              "      <th>orientation</th>\n",
              "      <th>pseudoknot</th>\n",
              "      <th>base_pairing</th>\n",
              "      <th>sugar_puckering</th>\n",
              "      <th>R</th>\n",
              "      <th>0</th>\n",
              "      <th>1</th>\n",
              "      <th>2</th>\n",
              "      <th>3</th>\n",
              "      <th>4</th>\n",
              "      <th>5</th>\n",
              "      <th>6</th>\n",
              "      <th>7</th>\n",
              "      <th>8</th>\n",
              "      <th>9</th>\n",
              "      <th>10</th>\n",
              "      <th>11</th>\n",
              "      <th>12</th>\n",
              "      <th>13</th>\n",
              "      <th>14</th>\n",
              "      <th>15</th>\n",
              "      <th>16</th>\n",
              "      <th>17</th>\n",
              "      <th>18</th>\n",
              "      <th>19</th>\n",
              "    </tr>\n",
              "  </thead>\n",
              "  <tbody>\n",
              "    <tr>\n",
              "      <th>0</th>\n",
              "      <td>1A60</td>\n",
              "      <td>1</td>\n",
              "      <td>1</td>\n",
              "      <td>anti</td>\n",
              "      <td>non-pseudoknotted</td>\n",
              "      <td>0</td>\n",
              "      <td>~C3'-endo</td>\n",
              "      <td>GUA</td>\n",
              "      <td>0</td>\n",
              "      <td>92.7</td>\n",
              "      <td>74.9</td>\n",
              "      <td>72</td>\n",
              "      <td>82.5</td>\n",
              "      <td>65.4</td>\n",
              "      <td>153.6</td>\n",
              "      <td>109.8</td>\n",
              "      <td>157</td>\n",
              "      <td>142.1</td>\n",
              "      <td>5.65</td>\n",
              "      <td>4.5</td>\n",
              "      <td>4.12</td>\n",
              "      <td>4.23</td>\n",
              "      <td>7.469</td>\n",
              "      <td>6.124</td>\n",
              "      <td>4.07</td>\n",
              "      <td>3.99</td>\n",
              "      <td>8.413</td>\n",
              "      <td>8.03</td>\n",
              "    </tr>\n",
              "    <tr>\n",
              "      <th>1</th>\n",
              "      <td>1A60</td>\n",
              "      <td>1</td>\n",
              "      <td>2</td>\n",
              "      <td>anti</td>\n",
              "      <td>non-pseudoknotted</td>\n",
              "      <td>0</td>\n",
              "      <td>~C3'-endo</td>\n",
              "      <td>GUA</td>\n",
              "      <td>1</td>\n",
              "      <td>91.9</td>\n",
              "      <td>75.7</td>\n",
              "      <td>72.4</td>\n",
              "      <td>82.3</td>\n",
              "      <td>66.1</td>\n",
              "      <td>155.207</td>\n",
              "      <td>118.377</td>\n",
              "      <td>160.7</td>\n",
              "      <td>141.4</td>\n",
              "      <td>5.88</td>\n",
              "      <td>4.6</td>\n",
              "      <td>4.5</td>\n",
              "      <td>4.31</td>\n",
              "      <td>7.83</td>\n",
              "      <td>5.549</td>\n",
              "      <td>4.2</td>\n",
              "      <td>4.15</td>\n",
              "      <td>7.871</td>\n",
              "      <td>7.49</td>\n",
              "    </tr>\n",
              "    <tr>\n",
              "      <th>2</th>\n",
              "      <td>1A60</td>\n",
              "      <td>1</td>\n",
              "      <td>3</td>\n",
              "      <td>anti</td>\n",
              "      <td>non-pseudoknotted</td>\n",
              "      <td>0</td>\n",
              "      <td>~C3'-endo</td>\n",
              "      <td>GUA</td>\n",
              "      <td>2</td>\n",
              "      <td>92.2</td>\n",
              "      <td>76.1</td>\n",
              "      <td>72.3</td>\n",
              "      <td>84.7</td>\n",
              "      <td>66</td>\n",
              "      <td>154.079</td>\n",
              "      <td>120.289</td>\n",
              "      <td>160.7</td>\n",
              "      <td>141.2</td>\n",
              "      <td>5.77</td>\n",
              "      <td>4.5</td>\n",
              "      <td>4.09</td>\n",
              "      <td>4.19</td>\n",
              "      <td>7.776</td>\n",
              "      <td>5.651</td>\n",
              "      <td>4.1</td>\n",
              "      <td>4.08</td>\n",
              "      <td>7.904</td>\n",
              "      <td>7.24</td>\n",
              "    </tr>\n",
              "    <tr>\n",
              "      <th>3</th>\n",
              "      <td>1A60</td>\n",
              "      <td>1</td>\n",
              "      <td>4</td>\n",
              "      <td>anti</td>\n",
              "      <td>non-pseudoknotted</td>\n",
              "      <td>0</td>\n",
              "      <td>~C3'-endo</td>\n",
              "      <td>ADE</td>\n",
              "      <td>3</td>\n",
              "      <td>92.2</td>\n",
              "      <td>75</td>\n",
              "      <td>72</td>\n",
              "      <td>81.2</td>\n",
              "      <td>65.8</td>\n",
              "      <td>153.7</td>\n",
              "      <td>118.8</td>\n",
              "      <td>157.085</td>\n",
              "      <td>139.1</td>\n",
              "      <td>5.96</td>\n",
              "      <td>4.57</td>\n",
              "      <td>4.53</td>\n",
              "      <td>4.54</td>\n",
              "      <td>7.52</td>\n",
              "      <td>5.932</td>\n",
              "      <td>4.28</td>\n",
              "      <td>4.11</td>\n",
              "      <td>8.413</td>\n",
              "      <td>7.68</td>\n",
              "    </tr>\n",
              "    <tr>\n",
              "      <th>4</th>\n",
              "      <td>1A60</td>\n",
              "      <td>1</td>\n",
              "      <td>5</td>\n",
              "      <td>anti</td>\n",
              "      <td>non-pseudoknotted</td>\n",
              "      <td>0</td>\n",
              "      <td>~C3'-endo</td>\n",
              "      <td>GUA</td>\n",
              "      <td>4</td>\n",
              "      <td>92.2</td>\n",
              "      <td>74.8</td>\n",
              "      <td>71.8</td>\n",
              "      <td>85.7</td>\n",
              "      <td>65.4</td>\n",
              "      <td>155.07</td>\n",
              "      <td>118.2</td>\n",
              "      <td>161.165</td>\n",
              "      <td>136.1</td>\n",
              "      <td>5.63</td>\n",
              "      <td>4.43</td>\n",
              "      <td>4.4</td>\n",
              "      <td>4.18</td>\n",
              "      <td>7.793</td>\n",
              "      <td>5.988</td>\n",
              "      <td>4.18</td>\n",
              "      <td>4.07</td>\n",
              "      <td>8.522</td>\n",
              "      <td>7</td>\n",
              "    </tr>\n",
              "    <tr>\n",
              "      <th>5</th>\n",
              "      <td>1A60</td>\n",
              "      <td>0</td>\n",
              "      <td>6</td>\n",
              "      <td>anti</td>\n",
              "      <td>non-pseudoknotted</td>\n",
              "      <td>1</td>\n",
              "      <td>~C3'-endo</td>\n",
              "      <td>CYT</td>\n",
              "      <td>5</td>\n",
              "      <td>93.1</td>\n",
              "      <td>76</td>\n",
              "      <td>71.8</td>\n",
              "      <td>82.2</td>\n",
              "      <td>64</td>\n",
              "      <td>159.7</td>\n",
              "      <td>96.5</td>\n",
              "      <td>141.7</td>\n",
              "      <td>141.851</td>\n",
              "      <td>5.64</td>\n",
              "      <td>4.17</td>\n",
              "      <td>4.42</td>\n",
              "      <td>4.32</td>\n",
              "      <td>7.4</td>\n",
              "      <td>5.11</td>\n",
              "      <td>4.32</td>\n",
              "      <td>4.17</td>\n",
              "      <td>7.48</td>\n",
              "      <td>8.169</td>\n",
              "    </tr>\n",
              "    <tr>\n",
              "      <th>6</th>\n",
              "      <td>1A60</td>\n",
              "      <td>0</td>\n",
              "      <td>7</td>\n",
              "      <td>anti</td>\n",
              "      <td>non-pseudoknotted</td>\n",
              "      <td>1</td>\n",
              "      <td>~C3'-endo</td>\n",
              "      <td>URA</td>\n",
              "      <td>6</td>\n",
              "      <td>92.4</td>\n",
              "      <td>74.8</td>\n",
              "      <td>73.5</td>\n",
              "      <td>83.1</td>\n",
              "      <td>65.5</td>\n",
              "      <td>150.76</td>\n",
              "      <td>104.5</td>\n",
              "      <td>143.7</td>\n",
              "      <td>140.758</td>\n",
              "      <td>5.88</td>\n",
              "      <td>4.35</td>\n",
              "      <td>4.65</td>\n",
              "      <td>4.38</td>\n",
              "      <td>6.077</td>\n",
              "      <td>5.82</td>\n",
              "      <td>4.14</td>\n",
              "      <td>4.13</td>\n",
              "      <td>7.89</td>\n",
              "      <td>8.291</td>\n",
              "    </tr>\n",
              "    <tr>\n",
              "      <th>7</th>\n",
              "      <td>1A60</td>\n",
              "      <td>0</td>\n",
              "      <td>8</td>\n",
              "      <td>anti</td>\n",
              "      <td>non-pseudoknotted</td>\n",
              "      <td>1</td>\n",
              "      <td>~C2'-endo</td>\n",
              "      <td>CYT</td>\n",
              "      <td>7</td>\n",
              "      <td>93.4</td>\n",
              "      <td>75.1</td>\n",
              "      <td>72.5</td>\n",
              "      <td>82.3</td>\n",
              "      <td>64.2</td>\n",
              "      <td>155.24</td>\n",
              "      <td>97.7</td>\n",
              "      <td>143.1</td>\n",
              "      <td>138.179</td>\n",
              "      <td>5.5</td>\n",
              "      <td>4.43</td>\n",
              "      <td>4.3</td>\n",
              "      <td>4.29</td>\n",
              "      <td>7.33</td>\n",
              "      <td>5.76</td>\n",
              "      <td>4.08</td>\n",
              "      <td>3.98</td>\n",
              "      <td>7.74</td>\n",
              "      <td>7.6</td>\n",
              "    </tr>\n",
              "    <tr>\n",
              "      <th>8</th>\n",
              "      <td>1A60</td>\n",
              "      <td>1</td>\n",
              "      <td>9</td>\n",
              "      <td>anti</td>\n",
              "      <td>non-pseudoknotted</td>\n",
              "      <td>1</td>\n",
              "      <td>~C3'-endo</td>\n",
              "      <td>ADE</td>\n",
              "      <td>8</td>\n",
              "      <td>91.4</td>\n",
              "      <td>75.4</td>\n",
              "      <td>73.3</td>\n",
              "      <td>82.4</td>\n",
              "      <td>66</td>\n",
              "      <td>154.9</td>\n",
              "      <td>118.176</td>\n",
              "      <td>158.057</td>\n",
              "      <td>141.1</td>\n",
              "      <td>6.02</td>\n",
              "      <td>4.67</td>\n",
              "      <td>4.87</td>\n",
              "      <td>4.39</td>\n",
              "      <td>7.86</td>\n",
              "      <td>6.081</td>\n",
              "      <td>4.3</td>\n",
              "      <td>4.26</td>\n",
              "      <td>7.968</td>\n",
              "      <td>8.05</td>\n",
              "    </tr>\n",
              "    <tr>\n",
              "      <th>9</th>\n",
              "      <td>1A60</td>\n",
              "      <td>1</td>\n",
              "      <td>10</td>\n",
              "      <td>anti</td>\n",
              "      <td>non-pseudoknotted</td>\n",
              "      <td>1</td>\n",
              "      <td>~C3'-endo</td>\n",
              "      <td>ADE</td>\n",
              "      <td>9</td>\n",
              "      <td>91.5</td>\n",
              "      <td>75</td>\n",
              "      <td>73.6</td>\n",
              "      <td>82.9</td>\n",
              "      <td>66.2</td>\n",
              "      <td>154.9</td>\n",
              "      <td>120.239</td>\n",
              "      <td>157.085</td>\n",
              "      <td>140</td>\n",
              "      <td>5.36</td>\n",
              "      <td>4.35</td>\n",
              "      <td>4.52</td>\n",
              "      <td>4.49</td>\n",
              "      <td>8.04</td>\n",
              "      <td>6.081</td>\n",
              "      <td>4.35</td>\n",
              "      <td>4.33</td>\n",
              "      <td>7.93</td>\n",
              "      <td>7.66</td>\n",
              "    </tr>\n",
              "  </tbody>\n",
              "</table>\n",
              "</div>"
            ],
            "text/plain": [
              "     id  stacking resid orientation  ...    16    17     18     19\n",
              "0  1A60         1     1        anti  ...  4.07  3.99  8.413   8.03\n",
              "1  1A60         1     2        anti  ...   4.2  4.15  7.871   7.49\n",
              "2  1A60         1     3        anti  ...   4.1  4.08  7.904   7.24\n",
              "3  1A60         1     4        anti  ...  4.28  4.11  8.413   7.68\n",
              "4  1A60         1     5        anti  ...  4.18  4.07  8.522      7\n",
              "5  1A60         0     6        anti  ...  4.32  4.17   7.48  8.169\n",
              "6  1A60         0     7        anti  ...  4.14  4.13   7.89  8.291\n",
              "7  1A60         0     8        anti  ...  4.08  3.98   7.74    7.6\n",
              "8  1A60         1     9        anti  ...   4.3  4.26  7.968   8.05\n",
              "9  1A60         1    10        anti  ...  4.35  4.33   7.93   7.66\n",
              "\n",
              "[10 rows x 28 columns]"
            ]
          },
          "metadata": {
            "tags": []
          },
          "execution_count": 12
        }
      ]
    },
    {
      "cell_type": "code",
      "metadata": {
        "id": "BRQkUb7ZTlbW",
        "colab_type": "code",
        "outputId": "36acde2e-e322-4882-c657-83587b96d102",
        "colab": {
          "base_uri": "https://localhost:8080/",
          "height": 406
        }
      },
      "source": [
        "#original dataset\n",
        "c"
      ],
      "execution_count": 13,
      "outputs": [
        {
          "output_type": "execute_result",
          "data": {
            "text/html": [
              "<div>\n",
              "<style scoped>\n",
              "    .dataframe tbody tr th:only-of-type {\n",
              "        vertical-align: middle;\n",
              "    }\n",
              "\n",
              "    .dataframe tbody tr th {\n",
              "        vertical-align: top;\n",
              "    }\n",
              "\n",
              "    .dataframe thead th {\n",
              "        text-align: right;\n",
              "    }\n",
              "</style>\n",
              "<table border=\"1\" class=\"dataframe\">\n",
              "  <thead>\n",
              "    <tr style=\"text-align: right;\">\n",
              "      <th></th>\n",
              "      <th>Unnamed: 0</th>\n",
              "      <th>resid</th>\n",
              "      <th>id</th>\n",
              "      <th>resname</th>\n",
              "      <th>C1p</th>\n",
              "      <th>C2p</th>\n",
              "      <th>C3p</th>\n",
              "      <th>C4p</th>\n",
              "      <th>C5p</th>\n",
              "      <th>C2</th>\n",
              "      <th>C5</th>\n",
              "      <th>C6</th>\n",
              "      <th>C8</th>\n",
              "      <th>H1p</th>\n",
              "      <th>H2p</th>\n",
              "      <th>H3p</th>\n",
              "      <th>H4p</th>\n",
              "      <th>H2</th>\n",
              "      <th>H5</th>\n",
              "      <th>H5p</th>\n",
              "      <th>H5pp</th>\n",
              "      <th>H6</th>\n",
              "      <th>H8</th>\n",
              "      <th>base_pairing</th>\n",
              "      <th>orientation</th>\n",
              "      <th>sugar_puckering</th>\n",
              "      <th>stacking</th>\n",
              "      <th>pseudoknot</th>\n",
              "    </tr>\n",
              "  </thead>\n",
              "  <tbody>\n",
              "    <tr>\n",
              "      <th>0</th>\n",
              "      <td>0</td>\n",
              "      <td>1</td>\n",
              "      <td>1A60</td>\n",
              "      <td>GUA</td>\n",
              "      <td>92.700</td>\n",
              "      <td>74.900</td>\n",
              "      <td>72.000</td>\n",
              "      <td>82.500</td>\n",
              "      <td>65.400</td>\n",
              "      <td>153.600</td>\n",
              "      <td>109.800</td>\n",
              "      <td>157.000</td>\n",
              "      <td>142.100</td>\n",
              "      <td>5.650</td>\n",
              "      <td>4.500</td>\n",
              "      <td>4.120</td>\n",
              "      <td>4.230</td>\n",
              "      <td>7.469</td>\n",
              "      <td>6.124</td>\n",
              "      <td>4.070</td>\n",
              "      <td>3.990</td>\n",
              "      <td>8.413</td>\n",
              "      <td>8.0300</td>\n",
              "      <td>0</td>\n",
              "      <td>anti</td>\n",
              "      <td>~C3'-endo</td>\n",
              "      <td>stack</td>\n",
              "      <td>non-pseudoknotted</td>\n",
              "    </tr>\n",
              "    <tr>\n",
              "      <th>1</th>\n",
              "      <td>1</td>\n",
              "      <td>2</td>\n",
              "      <td>1A60</td>\n",
              "      <td>GUA</td>\n",
              "      <td>91.900</td>\n",
              "      <td>75.700</td>\n",
              "      <td>72.400</td>\n",
              "      <td>82.300</td>\n",
              "      <td>66.100</td>\n",
              "      <td>155.207</td>\n",
              "      <td>118.377</td>\n",
              "      <td>160.700</td>\n",
              "      <td>141.400</td>\n",
              "      <td>5.880</td>\n",
              "      <td>4.600</td>\n",
              "      <td>4.500</td>\n",
              "      <td>4.310</td>\n",
              "      <td>7.830</td>\n",
              "      <td>5.549</td>\n",
              "      <td>4.200</td>\n",
              "      <td>4.150</td>\n",
              "      <td>7.871</td>\n",
              "      <td>7.4900</td>\n",
              "      <td>0</td>\n",
              "      <td>anti</td>\n",
              "      <td>~C3'-endo</td>\n",
              "      <td>stack</td>\n",
              "      <td>non-pseudoknotted</td>\n",
              "    </tr>\n",
              "    <tr>\n",
              "      <th>2</th>\n",
              "      <td>2</td>\n",
              "      <td>3</td>\n",
              "      <td>1A60</td>\n",
              "      <td>GUA</td>\n",
              "      <td>92.200</td>\n",
              "      <td>76.100</td>\n",
              "      <td>72.300</td>\n",
              "      <td>84.700</td>\n",
              "      <td>66.000</td>\n",
              "      <td>154.079</td>\n",
              "      <td>120.289</td>\n",
              "      <td>160.700</td>\n",
              "      <td>141.200</td>\n",
              "      <td>5.770</td>\n",
              "      <td>4.500</td>\n",
              "      <td>4.090</td>\n",
              "      <td>4.190</td>\n",
              "      <td>7.776</td>\n",
              "      <td>5.651</td>\n",
              "      <td>4.100</td>\n",
              "      <td>4.080</td>\n",
              "      <td>7.904</td>\n",
              "      <td>7.2400</td>\n",
              "      <td>0</td>\n",
              "      <td>anti</td>\n",
              "      <td>~C3'-endo</td>\n",
              "      <td>stack</td>\n",
              "      <td>non-pseudoknotted</td>\n",
              "    </tr>\n",
              "    <tr>\n",
              "      <th>3</th>\n",
              "      <td>3</td>\n",
              "      <td>4</td>\n",
              "      <td>1A60</td>\n",
              "      <td>ADE</td>\n",
              "      <td>92.200</td>\n",
              "      <td>75.000</td>\n",
              "      <td>72.000</td>\n",
              "      <td>81.200</td>\n",
              "      <td>65.800</td>\n",
              "      <td>153.700</td>\n",
              "      <td>118.800</td>\n",
              "      <td>157.085</td>\n",
              "      <td>139.100</td>\n",
              "      <td>5.960</td>\n",
              "      <td>4.570</td>\n",
              "      <td>4.530</td>\n",
              "      <td>4.540</td>\n",
              "      <td>7.520</td>\n",
              "      <td>5.932</td>\n",
              "      <td>4.280</td>\n",
              "      <td>4.110</td>\n",
              "      <td>8.413</td>\n",
              "      <td>7.6800</td>\n",
              "      <td>0</td>\n",
              "      <td>anti</td>\n",
              "      <td>~C3'-endo</td>\n",
              "      <td>stack</td>\n",
              "      <td>non-pseudoknotted</td>\n",
              "    </tr>\n",
              "    <tr>\n",
              "      <th>4</th>\n",
              "      <td>4</td>\n",
              "      <td>5</td>\n",
              "      <td>1A60</td>\n",
              "      <td>GUA</td>\n",
              "      <td>92.200</td>\n",
              "      <td>74.800</td>\n",
              "      <td>71.800</td>\n",
              "      <td>85.700</td>\n",
              "      <td>65.400</td>\n",
              "      <td>155.070</td>\n",
              "      <td>118.200</td>\n",
              "      <td>161.165</td>\n",
              "      <td>136.100</td>\n",
              "      <td>5.630</td>\n",
              "      <td>4.430</td>\n",
              "      <td>4.400</td>\n",
              "      <td>4.180</td>\n",
              "      <td>7.793</td>\n",
              "      <td>5.988</td>\n",
              "      <td>4.180</td>\n",
              "      <td>4.070</td>\n",
              "      <td>8.522</td>\n",
              "      <td>7.0000</td>\n",
              "      <td>0</td>\n",
              "      <td>anti</td>\n",
              "      <td>~C3'-endo</td>\n",
              "      <td>stack</td>\n",
              "      <td>non-pseudoknotted</td>\n",
              "    </tr>\n",
              "    <tr>\n",
              "      <th>...</th>\n",
              "      <td>...</td>\n",
              "      <td>...</td>\n",
              "      <td>...</td>\n",
              "      <td>...</td>\n",
              "      <td>...</td>\n",
              "      <td>...</td>\n",
              "      <td>...</td>\n",
              "      <td>...</td>\n",
              "      <td>...</td>\n",
              "      <td>...</td>\n",
              "      <td>...</td>\n",
              "      <td>...</td>\n",
              "      <td>...</td>\n",
              "      <td>...</td>\n",
              "      <td>...</td>\n",
              "      <td>...</td>\n",
              "      <td>...</td>\n",
              "      <td>...</td>\n",
              "      <td>...</td>\n",
              "      <td>...</td>\n",
              "      <td>...</td>\n",
              "      <td>...</td>\n",
              "      <td>...</td>\n",
              "      <td>...</td>\n",
              "      <td>...</td>\n",
              "      <td>...</td>\n",
              "      <td>...</td>\n",
              "      <td>...</td>\n",
              "    </tr>\n",
              "    <tr>\n",
              "      <th>3063</th>\n",
              "      <td>3347</td>\n",
              "      <td>19</td>\n",
              "      <td>5WQ1</td>\n",
              "      <td>URA</td>\n",
              "      <td>93.656</td>\n",
              "      <td>71.924</td>\n",
              "      <td>72.503</td>\n",
              "      <td>80.330</td>\n",
              "      <td>64.042</td>\n",
              "      <td>152.055</td>\n",
              "      <td>103.523</td>\n",
              "      <td>141.500</td>\n",
              "      <td>139.800</td>\n",
              "      <td>5.494</td>\n",
              "      <td>4.558</td>\n",
              "      <td>4.422</td>\n",
              "      <td>4.561</td>\n",
              "      <td>7.400</td>\n",
              "      <td>5.216</td>\n",
              "      <td>4.469</td>\n",
              "      <td>4.085</td>\n",
              "      <td>7.618</td>\n",
              "      <td>7.9140</td>\n",
              "      <td>0</td>\n",
              "      <td>anti</td>\n",
              "      <td>~C3'-endo</td>\n",
              "      <td>stack</td>\n",
              "      <td>non-pseudoknotted</td>\n",
              "    </tr>\n",
              "    <tr>\n",
              "      <th>3064</th>\n",
              "      <td>3348</td>\n",
              "      <td>20</td>\n",
              "      <td>5WQ1</td>\n",
              "      <td>GUA</td>\n",
              "      <td>92.923</td>\n",
              "      <td>75.273</td>\n",
              "      <td>73.402</td>\n",
              "      <td>82.035</td>\n",
              "      <td>65.331</td>\n",
              "      <td>155.240</td>\n",
              "      <td>118.700</td>\n",
              "      <td>161.600</td>\n",
              "      <td>136.271</td>\n",
              "      <td>5.779</td>\n",
              "      <td>4.496</td>\n",
              "      <td>4.583</td>\n",
              "      <td>4.502</td>\n",
              "      <td>7.947</td>\n",
              "      <td>5.932</td>\n",
              "      <td>4.504</td>\n",
              "      <td>4.127</td>\n",
              "      <td>7.930</td>\n",
              "      <td>7.7020</td>\n",
              "      <td>0</td>\n",
              "      <td>anti</td>\n",
              "      <td>~C3'-endo</td>\n",
              "      <td>stack</td>\n",
              "      <td>non-pseudoknotted</td>\n",
              "    </tr>\n",
              "    <tr>\n",
              "      <th>3065</th>\n",
              "      <td>3349</td>\n",
              "      <td>21</td>\n",
              "      <td>5WQ1</td>\n",
              "      <td>URA</td>\n",
              "      <td>93.692</td>\n",
              "      <td>75.310</td>\n",
              "      <td>73.040</td>\n",
              "      <td>82.920</td>\n",
              "      <td>64.482</td>\n",
              "      <td>153.472</td>\n",
              "      <td>102.537</td>\n",
              "      <td>141.916</td>\n",
              "      <td>141.418</td>\n",
              "      <td>5.537</td>\n",
              "      <td>4.481</td>\n",
              "      <td>4.250</td>\n",
              "      <td>4.291</td>\n",
              "      <td>7.043</td>\n",
              "      <td>5.094</td>\n",
              "      <td>4.478</td>\n",
              "      <td>4.080</td>\n",
              "      <td>7.823</td>\n",
              "      <td>8.3000</td>\n",
              "      <td>0</td>\n",
              "      <td>anti</td>\n",
              "      <td>~C3'-endo</td>\n",
              "      <td>stack</td>\n",
              "      <td>non-pseudoknotted</td>\n",
              "    </tr>\n",
              "    <tr>\n",
              "      <th>3066</th>\n",
              "      <td>3350</td>\n",
              "      <td>22</td>\n",
              "      <td>5WQ1</td>\n",
              "      <td>CYT</td>\n",
              "      <td>94.159</td>\n",
              "      <td>75.698</td>\n",
              "      <td>69.764</td>\n",
              "      <td>81.554</td>\n",
              "      <td>64.533</td>\n",
              "      <td>158.720</td>\n",
              "      <td>97.531</td>\n",
              "      <td>141.939</td>\n",
              "      <td>140.551</td>\n",
              "      <td>5.587</td>\n",
              "      <td>4.233</td>\n",
              "      <td>4.471</td>\n",
              "      <td>4.413</td>\n",
              "      <td>7.046</td>\n",
              "      <td>5.634</td>\n",
              "      <td>4.526</td>\n",
              "      <td>4.072</td>\n",
              "      <td>7.894</td>\n",
              "      <td>7.7060</td>\n",
              "      <td>0</td>\n",
              "      <td>anti</td>\n",
              "      <td>~C3'-endo</td>\n",
              "      <td>stack</td>\n",
              "      <td>non-pseudoknotted</td>\n",
              "    </tr>\n",
              "    <tr>\n",
              "      <th>3067</th>\n",
              "      <td>3351</td>\n",
              "      <td>23</td>\n",
              "      <td>5WQ1</td>\n",
              "      <td>CYT</td>\n",
              "      <td>92.794</td>\n",
              "      <td>77.513</td>\n",
              "      <td>69.687</td>\n",
              "      <td>83.394</td>\n",
              "      <td>65.073</td>\n",
              "      <td>159.700</td>\n",
              "      <td>97.942</td>\n",
              "      <td>141.780</td>\n",
              "      <td>141.968</td>\n",
              "      <td>5.719</td>\n",
              "      <td>4.064</td>\n",
              "      <td>4.195</td>\n",
              "      <td>4.151</td>\n",
              "      <td>8.100</td>\n",
              "      <td>5.520</td>\n",
              "      <td>4.333</td>\n",
              "      <td>4.012</td>\n",
              "      <td>7.661</td>\n",
              "      <td>7.9548</td>\n",
              "      <td>0</td>\n",
              "      <td>anti</td>\n",
              "      <td>~C3'-endo</td>\n",
              "      <td>stack</td>\n",
              "      <td>non-pseudoknotted</td>\n",
              "    </tr>\n",
              "  </tbody>\n",
              "</table>\n",
              "<p>3068 rows × 28 columns</p>\n",
              "</div>"
            ],
            "text/plain": [
              "      Unnamed: 0  resid    id  ... sugar_puckering  stacking         pseudoknot\n",
              "0              0      1  1A60  ...       ~C3'-endo     stack  non-pseudoknotted\n",
              "1              1      2  1A60  ...       ~C3'-endo     stack  non-pseudoknotted\n",
              "2              2      3  1A60  ...       ~C3'-endo     stack  non-pseudoknotted\n",
              "3              3      4  1A60  ...       ~C3'-endo     stack  non-pseudoknotted\n",
              "4              4      5  1A60  ...       ~C3'-endo     stack  non-pseudoknotted\n",
              "...          ...    ...   ...  ...             ...       ...                ...\n",
              "3063        3347     19  5WQ1  ...       ~C3'-endo     stack  non-pseudoknotted\n",
              "3064        3348     20  5WQ1  ...       ~C3'-endo     stack  non-pseudoknotted\n",
              "3065        3349     21  5WQ1  ...       ~C3'-endo     stack  non-pseudoknotted\n",
              "3066        3350     22  5WQ1  ...       ~C3'-endo     stack  non-pseudoknotted\n",
              "3067        3351     23  5WQ1  ...       ~C3'-endo     stack  non-pseudoknotted\n",
              "\n",
              "[3068 rows x 28 columns]"
            ]
          },
          "metadata": {
            "tags": []
          },
          "execution_count": 13
        }
      ]
    },
    {
      "cell_type": "markdown",
      "metadata": {
        "id": "UF1FkvnZdApz",
        "colab_type": "text"
      },
      "source": [
        "# MLP model (modified from base-pairing version)"
      ]
    },
    {
      "cell_type": "code",
      "metadata": {
        "id": "1zgfE6mnTD2_",
        "colab_type": "code",
        "colab": {}
      },
      "source": [
        "def create_training_testing(cs, leave_out = \"2KOC\", target_name = 'stacking', neighbors = 0, drop_names = ['id', 'base_pairing', 'resid', 'orientation', 'sugar_puckering', 'pseudoknot']):\n",
        "  '''    \n",
        "    This function creates a training and testing set using leave one out    \n",
        "  '''\n",
        "  \n",
        "  # drop extraneous data  \n",
        "  drop_names = drop_names + list(write_out_resname(neighbors))  \n",
        "  \n",
        "  # does not contain leave_out\n",
        "  train = cs[(cs.id != leave_out)]\n",
        "  trainX = train.drop(drop_names, axis=1)\n",
        "  trainy = train[target_name]\n",
        " \n",
        "  # only contains leave_out\n",
        "  test = cs[(cs.id == leave_out)]\n",
        "  testX = test.drop(drop_names, axis=1)\n",
        "  testy = test[target_name]\n",
        "  \n",
        "  # return training and testing data\n",
        "  return(trainX.values, trainy.values, testX.values, testy.values)"
      ],
      "execution_count": 0,
      "outputs": []
    },
    {
      "cell_type": "code",
      "metadata": {
        "id": "I_mLE7iub2pG",
        "colab_type": "code",
        "outputId": "efd7b81e-c41e-42e9-a74f-0ef6309c1b09",
        "colab": {
          "base_uri": "https://localhost:8080/",
          "height": 52
        }
      },
      "source": [
        "NEIGHBORS = 0\n",
        "id = '2KOC'\n",
        "trainX, trainy, testX, testy = create_training_testing(cs_all, leave_out = id, neighbors = NEIGHBORS)\n",
        "print(\"[INFO]: created training and testing data structures\")\n",
        "\n",
        "# setup scaler\n",
        "scaler = StandardScaler()\n",
        "scaler.fit(trainX)\n",
        "\n",
        "# transform input\n",
        "trainX_scaled = scaler.transform(trainX)\n",
        "testX_scaled = scaler.transform(testX)\n",
        "print(\"[INFO]: scaled the features\")"
      ],
      "execution_count": 15,
      "outputs": [
        {
          "output_type": "stream",
          "text": [
            "[INFO]: created training and testing data structures\n",
            "[INFO]: scaled the features\n"
          ],
          "name": "stdout"
        }
      ]
    },
    {
      "cell_type": "markdown",
      "metadata": {
        "id": "pYFmH9kjymPI",
        "colab_type": "text"
      },
      "source": [
        "**MLP Classifier model w/o optimization**"
      ]
    },
    {
      "cell_type": "code",
      "metadata": {
        "colab_type": "code",
        "id": "oj8iXFgGxP48",
        "colab": {}
      },
      "source": [
        "#split the data into train/test\n",
        "from sklearn.model_selection import train_test_split\n",
        "X=cs_all[[1,2,3,4,5,6,7,8,9,10,11,12,13,14,15,16,17,18,19]] #Chemical shift data\n",
        "y=cs_all['stacking'] #one-hot encoded stacking data\n",
        "X_train, X_test, y_train, y_test = train_test_split(X, y, test_size=0.3)"
      ],
      "execution_count": 0,
      "outputs": []
    },
    {
      "cell_type": "code",
      "metadata": {
        "colab_type": "code",
        "id": "ZLBZ8xk-xP4_",
        "colab": {}
      },
      "source": [
        "#Scale the features\n",
        "scaler = StandardScaler()\n",
        "scaler.fit(X_train)\n",
        "trainX_scaled = scaler.transform(X_train)\n",
        "testX_scaled = scaler.transform(X_test)"
      ],
      "execution_count": 0,
      "outputs": []
    },
    {
      "cell_type": "code",
      "metadata": {
        "colab_type": "code",
        "outputId": "7c3e2b36-1b9e-4b06-c758-d7b9eae9f242",
        "id": "fPjVJlClxP5B",
        "colab": {
          "base_uri": "https://localhost:8080/",
          "height": 230
        }
      },
      "source": [
        "#fit and evaluate a baseline MLP model w/o optimization\n",
        "from sklearn.neural_network import MLPClassifier\n",
        "classifier = MLPClassifier(max_iter=100)\n",
        "classifier.fit(trainX_scaled, y_train)\n",
        "y_pred = classifier.predict(testX_scaled)\n",
        "print('score report for predicting stacking')\n",
        "print(classification_report(y_test, y_pred))"
      ],
      "execution_count": 18,
      "outputs": [
        {
          "output_type": "stream",
          "text": [
            "score report for predicting stacking\n",
            "              precision    recall  f1-score   support\n",
            "\n",
            "           0       0.62      0.13      0.21       119\n",
            "           1       0.88      0.99      0.93       802\n",
            "\n",
            "    accuracy                           0.88       921\n",
            "   macro avg       0.75      0.56      0.57       921\n",
            "weighted avg       0.85      0.88      0.84       921\n",
            "\n"
          ],
          "name": "stdout"
        },
        {
          "output_type": "stream",
          "text": [
            "/usr/local/lib/python3.6/dist-packages/sklearn/neural_network/multilayer_perceptron.py:566: ConvergenceWarning: Stochastic Optimizer: Maximum iterations (100) reached and the optimization hasn't converged yet.\n",
            "  % self.max_iter, ConvergenceWarning)\n"
          ],
          "name": "stderr"
        }
      ]
    },
    {
      "cell_type": "markdown",
      "metadata": {
        "id": "vr97UNg0yEp-",
        "colab_type": "text"
      },
      "source": [
        "**Hyperparameter Optimization**"
      ]
    },
    {
      "cell_type": "code",
      "metadata": {
        "id": "ARbb60WBe15p",
        "colab_type": "code",
        "colab": {}
      },
      "source": [
        "parameter_space = {\n",
        "    'hidden_layer_sizes': [(50,50,50,50), (50,50,50), (50,50), (50,)],\n",
        "    'activation': ['tanh', 'relu'],\n",
        "    'solver': ['sgd', 'adam', 'lbfgs'],\n",
        "    'alpha': [0.0001, 0.05],\n",
        "    'learning_rate': ['constant','adaptive'],\n",
        "}\n",
        "\n",
        "from scipy.stats import randint as sp_randint\n",
        "from scipy.stats import expon as sp_expon\n",
        "\n",
        "min_size, max_size = 5, 100\n",
        "parameter_space_distribution = {\n",
        "    'hidden_layer_sizes': [(sp_randint.rvs(min_size, max_size),sp_randint.rvs(min_size, max_size),sp_randint.rvs(min_size, max_size),sp_randint.rvs(min_size, max_size)), (sp_randint.rvs(min_size, max_size),sp_randint.rvs(min_size, max_size),sp_randint.rvs(min_size, max_size)), (sp_randint.rvs(min_size, max_size),sp_randint.rvs(min_size, max_size)), (sp_randint.rvs(min_size, max_size),)],\n",
        "    'activation': ['tanh', 'relu'],\n",
        "    'solver': ['sgd', 'adam', 'lbfgs'],\n",
        "    'alpha': sp_expon(scale=.01),\n",
        "    'learning_rate': ['constant','adaptive'],\n",
        "    'learning_rate_init': sp_expon(scale=.001),\n",
        "}"
      ],
      "execution_count": 0,
      "outputs": []
    },
    {
      "cell_type": "code",
      "metadata": {
        "id": "YXblhawQmgVy",
        "colab_type": "code",
        "outputId": "5e63a834-ccc4-4af2-fa81-12ea4eaf27d9",
        "colab": {
          "base_uri": "https://localhost:8080/",
          "height": 1000
        }
      },
      "source": [
        "n_iter_search = 10\n",
        "random_search = RandomizedSearchCV(classifier, param_distributions=parameter_space_distribution, n_iter=n_iter_search, cv=4, verbose = 5)\n",
        "random_search.fit(trainX_scaled, y_train)\n"
      ],
      "execution_count": 20,
      "outputs": [
        {
          "output_type": "stream",
          "text": [
            "Fitting 4 folds for each of 10 candidates, totalling 40 fits\n",
            "[CV] activation=tanh, alpha=0.008873749889043728, hidden_layer_sizes=(5, 68, 37), learning_rate=adaptive, learning_rate_init=0.000626839428279053, solver=sgd \n"
          ],
          "name": "stdout"
        },
        {
          "output_type": "stream",
          "text": [
            "[Parallel(n_jobs=1)]: Using backend SequentialBackend with 1 concurrent workers.\n",
            "/usr/local/lib/python3.6/dist-packages/sklearn/neural_network/multilayer_perceptron.py:566: ConvergenceWarning: Stochastic Optimizer: Maximum iterations (100) reached and the optimization hasn't converged yet.\n",
            "  % self.max_iter, ConvergenceWarning)\n",
            "[Parallel(n_jobs=1)]: Done   1 out of   1 | elapsed:    1.8s remaining:    0.0s\n"
          ],
          "name": "stderr"
        },
        {
          "output_type": "stream",
          "text": [
            "[CV]  activation=tanh, alpha=0.008873749889043728, hidden_layer_sizes=(5, 68, 37), learning_rate=adaptive, learning_rate_init=0.000626839428279053, solver=sgd, score=0.864, total=   1.8s\n",
            "[CV] activation=tanh, alpha=0.008873749889043728, hidden_layer_sizes=(5, 68, 37), learning_rate=adaptive, learning_rate_init=0.000626839428279053, solver=sgd \n"
          ],
          "name": "stdout"
        },
        {
          "output_type": "stream",
          "text": [
            "/usr/local/lib/python3.6/dist-packages/sklearn/neural_network/multilayer_perceptron.py:566: ConvergenceWarning: Stochastic Optimizer: Maximum iterations (100) reached and the optimization hasn't converged yet.\n",
            "  % self.max_iter, ConvergenceWarning)\n",
            "[Parallel(n_jobs=1)]: Done   2 out of   2 | elapsed:    3.6s remaining:    0.0s\n"
          ],
          "name": "stderr"
        },
        {
          "output_type": "stream",
          "text": [
            "[CV]  activation=tanh, alpha=0.008873749889043728, hidden_layer_sizes=(5, 68, 37), learning_rate=adaptive, learning_rate_init=0.000626839428279053, solver=sgd, score=0.866, total=   1.8s\n",
            "[CV] activation=tanh, alpha=0.008873749889043728, hidden_layer_sizes=(5, 68, 37), learning_rate=adaptive, learning_rate_init=0.000626839428279053, solver=sgd \n"
          ],
          "name": "stdout"
        },
        {
          "output_type": "stream",
          "text": [
            "/usr/local/lib/python3.6/dist-packages/sklearn/neural_network/multilayer_perceptron.py:566: ConvergenceWarning: Stochastic Optimizer: Maximum iterations (100) reached and the optimization hasn't converged yet.\n",
            "  % self.max_iter, ConvergenceWarning)\n",
            "[Parallel(n_jobs=1)]: Done   3 out of   3 | elapsed:    5.5s remaining:    0.0s\n"
          ],
          "name": "stderr"
        },
        {
          "output_type": "stream",
          "text": [
            "[CV]  activation=tanh, alpha=0.008873749889043728, hidden_layer_sizes=(5, 68, 37), learning_rate=adaptive, learning_rate_init=0.000626839428279053, solver=sgd, score=0.866, total=   1.8s\n",
            "[CV] activation=tanh, alpha=0.008873749889043728, hidden_layer_sizes=(5, 68, 37), learning_rate=adaptive, learning_rate_init=0.000626839428279053, solver=sgd \n"
          ],
          "name": "stdout"
        },
        {
          "output_type": "stream",
          "text": [
            "/usr/local/lib/python3.6/dist-packages/sklearn/neural_network/multilayer_perceptron.py:566: ConvergenceWarning: Stochastic Optimizer: Maximum iterations (100) reached and the optimization hasn't converged yet.\n",
            "  % self.max_iter, ConvergenceWarning)\n",
            "[Parallel(n_jobs=1)]: Done   4 out of   4 | elapsed:    7.2s remaining:    0.0s\n"
          ],
          "name": "stderr"
        },
        {
          "output_type": "stream",
          "text": [
            "[CV]  activation=tanh, alpha=0.008873749889043728, hidden_layer_sizes=(5, 68, 37), learning_rate=adaptive, learning_rate_init=0.000626839428279053, solver=sgd, score=0.866, total=   1.8s\n",
            "[CV] activation=relu, alpha=0.0032312890846254716, hidden_layer_sizes=(27, 92), learning_rate=adaptive, learning_rate_init=0.0008775066052608679, solver=lbfgs \n",
            "[CV]  activation=relu, alpha=0.0032312890846254716, hidden_layer_sizes=(27, 92), learning_rate=adaptive, learning_rate_init=0.0008775066052608679, solver=lbfgs, score=0.818, total=   0.8s\n",
            "[CV] activation=relu, alpha=0.0032312890846254716, hidden_layer_sizes=(27, 92), learning_rate=adaptive, learning_rate_init=0.0008775066052608679, solver=lbfgs \n",
            "[CV]  activation=relu, alpha=0.0032312890846254716, hidden_layer_sizes=(27, 92), learning_rate=adaptive, learning_rate_init=0.0008775066052608679, solver=lbfgs, score=0.795, total=   0.9s\n",
            "[CV] activation=relu, alpha=0.0032312890846254716, hidden_layer_sizes=(27, 92), learning_rate=adaptive, learning_rate_init=0.0008775066052608679, solver=lbfgs \n",
            "[CV]  activation=relu, alpha=0.0032312890846254716, hidden_layer_sizes=(27, 92), learning_rate=adaptive, learning_rate_init=0.0008775066052608679, solver=lbfgs, score=0.808, total=   0.9s\n",
            "[CV] activation=relu, alpha=0.0032312890846254716, hidden_layer_sizes=(27, 92), learning_rate=adaptive, learning_rate_init=0.0008775066052608679, solver=lbfgs \n",
            "[CV]  activation=relu, alpha=0.0032312890846254716, hidden_layer_sizes=(27, 92), learning_rate=adaptive, learning_rate_init=0.0008775066052608679, solver=lbfgs, score=0.815, total=   0.9s\n",
            "[CV] activation=tanh, alpha=0.005846314476543495, hidden_layer_sizes=(62, 20, 80, 58), learning_rate=adaptive, learning_rate_init=0.0005077118290684212, solver=adam \n"
          ],
          "name": "stdout"
        },
        {
          "output_type": "stream",
          "text": [
            "/usr/local/lib/python3.6/dist-packages/sklearn/neural_network/multilayer_perceptron.py:566: ConvergenceWarning: Stochastic Optimizer: Maximum iterations (100) reached and the optimization hasn't converged yet.\n",
            "  % self.max_iter, ConvergenceWarning)\n"
          ],
          "name": "stderr"
        },
        {
          "output_type": "stream",
          "text": [
            "[CV]  activation=tanh, alpha=0.005846314476543495, hidden_layer_sizes=(62, 20, 80, 58), learning_rate=adaptive, learning_rate_init=0.0005077118290684212, solver=adam, score=0.857, total=   3.6s\n",
            "[CV] activation=tanh, alpha=0.005846314476543495, hidden_layer_sizes=(62, 20, 80, 58), learning_rate=adaptive, learning_rate_init=0.0005077118290684212, solver=adam \n"
          ],
          "name": "stdout"
        },
        {
          "output_type": "stream",
          "text": [
            "/usr/local/lib/python3.6/dist-packages/sklearn/neural_network/multilayer_perceptron.py:566: ConvergenceWarning: Stochastic Optimizer: Maximum iterations (100) reached and the optimization hasn't converged yet.\n",
            "  % self.max_iter, ConvergenceWarning)\n"
          ],
          "name": "stderr"
        },
        {
          "output_type": "stream",
          "text": [
            "[CV]  activation=tanh, alpha=0.005846314476543495, hidden_layer_sizes=(62, 20, 80, 58), learning_rate=adaptive, learning_rate_init=0.0005077118290684212, solver=adam, score=0.849, total=   3.6s\n",
            "[CV] activation=tanh, alpha=0.005846314476543495, hidden_layer_sizes=(62, 20, 80, 58), learning_rate=adaptive, learning_rate_init=0.0005077118290684212, solver=adam \n"
          ],
          "name": "stdout"
        },
        {
          "output_type": "stream",
          "text": [
            "/usr/local/lib/python3.6/dist-packages/sklearn/neural_network/multilayer_perceptron.py:566: ConvergenceWarning: Stochastic Optimizer: Maximum iterations (100) reached and the optimization hasn't converged yet.\n",
            "  % self.max_iter, ConvergenceWarning)\n"
          ],
          "name": "stderr"
        },
        {
          "output_type": "stream",
          "text": [
            "[CV]  activation=tanh, alpha=0.005846314476543495, hidden_layer_sizes=(62, 20, 80, 58), learning_rate=adaptive, learning_rate_init=0.0005077118290684212, solver=adam, score=0.854, total=   3.5s\n",
            "[CV] activation=tanh, alpha=0.005846314476543495, hidden_layer_sizes=(62, 20, 80, 58), learning_rate=adaptive, learning_rate_init=0.0005077118290684212, solver=adam \n"
          ],
          "name": "stdout"
        },
        {
          "output_type": "stream",
          "text": [
            "/usr/local/lib/python3.6/dist-packages/sklearn/neural_network/multilayer_perceptron.py:566: ConvergenceWarning: Stochastic Optimizer: Maximum iterations (100) reached and the optimization hasn't converged yet.\n",
            "  % self.max_iter, ConvergenceWarning)\n"
          ],
          "name": "stderr"
        },
        {
          "output_type": "stream",
          "text": [
            "[CV]  activation=tanh, alpha=0.005846314476543495, hidden_layer_sizes=(62, 20, 80, 58), learning_rate=adaptive, learning_rate_init=0.0005077118290684212, solver=adam, score=0.868, total=   3.6s\n",
            "[CV] activation=tanh, alpha=0.018940922168679448, hidden_layer_sizes=(70,), learning_rate=adaptive, learning_rate_init=0.0007713997545576555, solver=adam \n"
          ],
          "name": "stdout"
        },
        {
          "output_type": "stream",
          "text": [
            "/usr/local/lib/python3.6/dist-packages/sklearn/neural_network/multilayer_perceptron.py:566: ConvergenceWarning: Stochastic Optimizer: Maximum iterations (100) reached and the optimization hasn't converged yet.\n",
            "  % self.max_iter, ConvergenceWarning)\n"
          ],
          "name": "stderr"
        },
        {
          "output_type": "stream",
          "text": [
            "[CV]  activation=tanh, alpha=0.018940922168679448, hidden_layer_sizes=(70,), learning_rate=adaptive, learning_rate_init=0.0007713997545576555, solver=adam, score=0.872, total=   1.2s\n",
            "[CV] activation=tanh, alpha=0.018940922168679448, hidden_layer_sizes=(70,), learning_rate=adaptive, learning_rate_init=0.0007713997545576555, solver=adam \n"
          ],
          "name": "stdout"
        },
        {
          "output_type": "stream",
          "text": [
            "/usr/local/lib/python3.6/dist-packages/sklearn/neural_network/multilayer_perceptron.py:566: ConvergenceWarning: Stochastic Optimizer: Maximum iterations (100) reached and the optimization hasn't converged yet.\n",
            "  % self.max_iter, ConvergenceWarning)\n"
          ],
          "name": "stderr"
        },
        {
          "output_type": "stream",
          "text": [
            "[CV]  activation=tanh, alpha=0.018940922168679448, hidden_layer_sizes=(70,), learning_rate=adaptive, learning_rate_init=0.0007713997545576555, solver=adam, score=0.866, total=   1.2s\n",
            "[CV] activation=tanh, alpha=0.018940922168679448, hidden_layer_sizes=(70,), learning_rate=adaptive, learning_rate_init=0.0007713997545576555, solver=adam \n"
          ],
          "name": "stdout"
        },
        {
          "output_type": "stream",
          "text": [
            "/usr/local/lib/python3.6/dist-packages/sklearn/neural_network/multilayer_perceptron.py:566: ConvergenceWarning: Stochastic Optimizer: Maximum iterations (100) reached and the optimization hasn't converged yet.\n",
            "  % self.max_iter, ConvergenceWarning)\n"
          ],
          "name": "stderr"
        },
        {
          "output_type": "stream",
          "text": [
            "[CV]  activation=tanh, alpha=0.018940922168679448, hidden_layer_sizes=(70,), learning_rate=adaptive, learning_rate_init=0.0007713997545576555, solver=adam, score=0.869, total=   1.2s\n",
            "[CV] activation=tanh, alpha=0.018940922168679448, hidden_layer_sizes=(70,), learning_rate=adaptive, learning_rate_init=0.0007713997545576555, solver=adam \n"
          ],
          "name": "stdout"
        },
        {
          "output_type": "stream",
          "text": [
            "/usr/local/lib/python3.6/dist-packages/sklearn/neural_network/multilayer_perceptron.py:566: ConvergenceWarning: Stochastic Optimizer: Maximum iterations (100) reached and the optimization hasn't converged yet.\n",
            "  % self.max_iter, ConvergenceWarning)\n"
          ],
          "name": "stderr"
        },
        {
          "output_type": "stream",
          "text": [
            "[CV]  activation=tanh, alpha=0.018940922168679448, hidden_layer_sizes=(70,), learning_rate=adaptive, learning_rate_init=0.0007713997545576555, solver=adam, score=0.873, total=   1.2s\n",
            "[CV] activation=relu, alpha=0.0013423781874160917, hidden_layer_sizes=(70,), learning_rate=constant, learning_rate_init=0.00126247457499768, solver=sgd \n"
          ],
          "name": "stdout"
        },
        {
          "output_type": "stream",
          "text": [
            "/usr/local/lib/python3.6/dist-packages/sklearn/neural_network/multilayer_perceptron.py:566: ConvergenceWarning: Stochastic Optimizer: Maximum iterations (100) reached and the optimization hasn't converged yet.\n",
            "  % self.max_iter, ConvergenceWarning)\n"
          ],
          "name": "stderr"
        },
        {
          "output_type": "stream",
          "text": [
            "[CV]  activation=relu, alpha=0.0013423781874160917, hidden_layer_sizes=(70,), learning_rate=constant, learning_rate_init=0.00126247457499768, solver=sgd, score=0.866, total=   0.8s\n",
            "[CV] activation=relu, alpha=0.0013423781874160917, hidden_layer_sizes=(70,), learning_rate=constant, learning_rate_init=0.00126247457499768, solver=sgd \n"
          ],
          "name": "stdout"
        },
        {
          "output_type": "stream",
          "text": [
            "/usr/local/lib/python3.6/dist-packages/sklearn/neural_network/multilayer_perceptron.py:566: ConvergenceWarning: Stochastic Optimizer: Maximum iterations (100) reached and the optimization hasn't converged yet.\n",
            "  % self.max_iter, ConvergenceWarning)\n"
          ],
          "name": "stderr"
        },
        {
          "output_type": "stream",
          "text": [
            "[CV]  activation=relu, alpha=0.0013423781874160917, hidden_layer_sizes=(70,), learning_rate=constant, learning_rate_init=0.00126247457499768, solver=sgd, score=0.862, total=   0.8s\n",
            "[CV] activation=relu, alpha=0.0013423781874160917, hidden_layer_sizes=(70,), learning_rate=constant, learning_rate_init=0.00126247457499768, solver=sgd \n"
          ],
          "name": "stdout"
        },
        {
          "output_type": "stream",
          "text": [
            "/usr/local/lib/python3.6/dist-packages/sklearn/neural_network/multilayer_perceptron.py:566: ConvergenceWarning: Stochastic Optimizer: Maximum iterations (100) reached and the optimization hasn't converged yet.\n",
            "  % self.max_iter, ConvergenceWarning)\n"
          ],
          "name": "stderr"
        },
        {
          "output_type": "stream",
          "text": [
            "[CV]  activation=relu, alpha=0.0013423781874160917, hidden_layer_sizes=(70,), learning_rate=constant, learning_rate_init=0.00126247457499768, solver=sgd, score=0.864, total=   0.8s\n",
            "[CV] activation=relu, alpha=0.0013423781874160917, hidden_layer_sizes=(70,), learning_rate=constant, learning_rate_init=0.00126247457499768, solver=sgd \n"
          ],
          "name": "stdout"
        },
        {
          "output_type": "stream",
          "text": [
            "/usr/local/lib/python3.6/dist-packages/sklearn/neural_network/multilayer_perceptron.py:566: ConvergenceWarning: Stochastic Optimizer: Maximum iterations (100) reached and the optimization hasn't converged yet.\n",
            "  % self.max_iter, ConvergenceWarning)\n"
          ],
          "name": "stderr"
        },
        {
          "output_type": "stream",
          "text": [
            "[CV]  activation=relu, alpha=0.0013423781874160917, hidden_layer_sizes=(70,), learning_rate=constant, learning_rate_init=0.00126247457499768, solver=sgd, score=0.866, total=   0.8s\n",
            "[CV] activation=relu, alpha=0.020528840272896535, hidden_layer_sizes=(5, 68, 37), learning_rate=adaptive, learning_rate_init=0.0003808188575491913, solver=lbfgs \n",
            "[CV]  activation=relu, alpha=0.020528840272896535, hidden_layer_sizes=(5, 68, 37), learning_rate=adaptive, learning_rate_init=0.0003808188575491913, solver=lbfgs, score=0.844, total=   0.8s\n",
            "[CV] activation=relu, alpha=0.020528840272896535, hidden_layer_sizes=(5, 68, 37), learning_rate=adaptive, learning_rate_init=0.0003808188575491913, solver=lbfgs \n",
            "[CV]  activation=relu, alpha=0.020528840272896535, hidden_layer_sizes=(5, 68, 37), learning_rate=adaptive, learning_rate_init=0.0003808188575491913, solver=lbfgs, score=0.842, total=   0.8s\n",
            "[CV] activation=relu, alpha=0.020528840272896535, hidden_layer_sizes=(5, 68, 37), learning_rate=adaptive, learning_rate_init=0.0003808188575491913, solver=lbfgs \n",
            "[CV]  activation=relu, alpha=0.020528840272896535, hidden_layer_sizes=(5, 68, 37), learning_rate=adaptive, learning_rate_init=0.0003808188575491913, solver=lbfgs, score=0.841, total=   0.8s\n",
            "[CV] activation=relu, alpha=0.020528840272896535, hidden_layer_sizes=(5, 68, 37), learning_rate=adaptive, learning_rate_init=0.0003808188575491913, solver=lbfgs \n",
            "[CV]  activation=relu, alpha=0.020528840272896535, hidden_layer_sizes=(5, 68, 37), learning_rate=adaptive, learning_rate_init=0.0003808188575491913, solver=lbfgs, score=0.879, total=   0.8s\n",
            "[CV] activation=tanh, alpha=0.012036648662848533, hidden_layer_sizes=(62, 20, 80, 58), learning_rate=adaptive, learning_rate_init=0.0013050721752203701, solver=sgd \n"
          ],
          "name": "stdout"
        },
        {
          "output_type": "stream",
          "text": [
            "/usr/local/lib/python3.6/dist-packages/sklearn/neural_network/multilayer_perceptron.py:566: ConvergenceWarning: Stochastic Optimizer: Maximum iterations (100) reached and the optimization hasn't converged yet.\n",
            "  % self.max_iter, ConvergenceWarning)\n"
          ],
          "name": "stderr"
        },
        {
          "output_type": "stream",
          "text": [
            "[CV]  activation=tanh, alpha=0.012036648662848533, hidden_layer_sizes=(62, 20, 80, 58), learning_rate=adaptive, learning_rate_init=0.0013050721752203701, solver=sgd, score=0.868, total=   3.4s\n",
            "[CV] activation=tanh, alpha=0.012036648662848533, hidden_layer_sizes=(62, 20, 80, 58), learning_rate=adaptive, learning_rate_init=0.0013050721752203701, solver=sgd \n"
          ],
          "name": "stdout"
        },
        {
          "output_type": "stream",
          "text": [
            "/usr/local/lib/python3.6/dist-packages/sklearn/neural_network/multilayer_perceptron.py:566: ConvergenceWarning: Stochastic Optimizer: Maximum iterations (100) reached and the optimization hasn't converged yet.\n",
            "  % self.max_iter, ConvergenceWarning)\n"
          ],
          "name": "stderr"
        },
        {
          "output_type": "stream",
          "text": [
            "[CV]  activation=tanh, alpha=0.012036648662848533, hidden_layer_sizes=(62, 20, 80, 58), learning_rate=adaptive, learning_rate_init=0.0013050721752203701, solver=sgd, score=0.868, total=   3.4s\n",
            "[CV] activation=tanh, alpha=0.012036648662848533, hidden_layer_sizes=(62, 20, 80, 58), learning_rate=adaptive, learning_rate_init=0.0013050721752203701, solver=sgd \n"
          ],
          "name": "stdout"
        },
        {
          "output_type": "stream",
          "text": [
            "/usr/local/lib/python3.6/dist-packages/sklearn/neural_network/multilayer_perceptron.py:566: ConvergenceWarning: Stochastic Optimizer: Maximum iterations (100) reached and the optimization hasn't converged yet.\n",
            "  % self.max_iter, ConvergenceWarning)\n"
          ],
          "name": "stderr"
        },
        {
          "output_type": "stream",
          "text": [
            "[CV]  activation=tanh, alpha=0.012036648662848533, hidden_layer_sizes=(62, 20, 80, 58), learning_rate=adaptive, learning_rate_init=0.0013050721752203701, solver=sgd, score=0.858, total=   3.5s\n",
            "[CV] activation=tanh, alpha=0.012036648662848533, hidden_layer_sizes=(62, 20, 80, 58), learning_rate=adaptive, learning_rate_init=0.0013050721752203701, solver=sgd \n"
          ],
          "name": "stdout"
        },
        {
          "output_type": "stream",
          "text": [
            "/usr/local/lib/python3.6/dist-packages/sklearn/neural_network/multilayer_perceptron.py:566: ConvergenceWarning: Stochastic Optimizer: Maximum iterations (100) reached and the optimization hasn't converged yet.\n",
            "  % self.max_iter, ConvergenceWarning)\n"
          ],
          "name": "stderr"
        },
        {
          "output_type": "stream",
          "text": [
            "[CV]  activation=tanh, alpha=0.012036648662848533, hidden_layer_sizes=(62, 20, 80, 58), learning_rate=adaptive, learning_rate_init=0.0013050721752203701, solver=sgd, score=0.875, total=   3.4s\n",
            "[CV] activation=tanh, alpha=0.02182277337170008, hidden_layer_sizes=(70,), learning_rate=constant, learning_rate_init=0.00015466454595497713, solver=lbfgs \n",
            "[CV]  activation=tanh, alpha=0.02182277337170008, hidden_layer_sizes=(70,), learning_rate=constant, learning_rate_init=0.00015466454595497713, solver=lbfgs, score=0.836, total=   0.9s\n",
            "[CV] activation=tanh, alpha=0.02182277337170008, hidden_layer_sizes=(70,), learning_rate=constant, learning_rate_init=0.00015466454595497713, solver=lbfgs \n",
            "[CV]  activation=tanh, alpha=0.02182277337170008, hidden_layer_sizes=(70,), learning_rate=constant, learning_rate_init=0.00015466454595497713, solver=lbfgs, score=0.832, total=   0.9s\n",
            "[CV] activation=tanh, alpha=0.02182277337170008, hidden_layer_sizes=(70,), learning_rate=constant, learning_rate_init=0.00015466454595497713, solver=lbfgs \n",
            "[CV]  activation=tanh, alpha=0.02182277337170008, hidden_layer_sizes=(70,), learning_rate=constant, learning_rate_init=0.00015466454595497713, solver=lbfgs, score=0.806, total=   0.9s\n",
            "[CV] activation=tanh, alpha=0.02182277337170008, hidden_layer_sizes=(70,), learning_rate=constant, learning_rate_init=0.00015466454595497713, solver=lbfgs \n",
            "[CV]  activation=tanh, alpha=0.02182277337170008, hidden_layer_sizes=(70,), learning_rate=constant, learning_rate_init=0.00015466454595497713, solver=lbfgs, score=0.826, total=   0.9s\n",
            "[CV] activation=relu, alpha=0.0022488789284446117, hidden_layer_sizes=(27, 92), learning_rate=constant, learning_rate_init=0.0020719473035147175, solver=sgd \n"
          ],
          "name": "stdout"
        },
        {
          "output_type": "stream",
          "text": [
            "/usr/local/lib/python3.6/dist-packages/sklearn/neural_network/multilayer_perceptron.py:566: ConvergenceWarning: Stochastic Optimizer: Maximum iterations (100) reached and the optimization hasn't converged yet.\n",
            "  % self.max_iter, ConvergenceWarning)\n"
          ],
          "name": "stderr"
        },
        {
          "output_type": "stream",
          "text": [
            "[CV]  activation=relu, alpha=0.0022488789284446117, hidden_layer_sizes=(27, 92), learning_rate=constant, learning_rate_init=0.0020719473035147175, solver=sgd, score=0.870, total=   1.4s\n",
            "[CV] activation=relu, alpha=0.0022488789284446117, hidden_layer_sizes=(27, 92), learning_rate=constant, learning_rate_init=0.0020719473035147175, solver=sgd \n"
          ],
          "name": "stdout"
        },
        {
          "output_type": "stream",
          "text": [
            "/usr/local/lib/python3.6/dist-packages/sklearn/neural_network/multilayer_perceptron.py:566: ConvergenceWarning: Stochastic Optimizer: Maximum iterations (100) reached and the optimization hasn't converged yet.\n",
            "  % self.max_iter, ConvergenceWarning)\n"
          ],
          "name": "stderr"
        },
        {
          "output_type": "stream",
          "text": [
            "[CV]  activation=relu, alpha=0.0022488789284446117, hidden_layer_sizes=(27, 92), learning_rate=constant, learning_rate_init=0.0020719473035147175, solver=sgd, score=0.868, total=   1.4s\n",
            "[CV] activation=relu, alpha=0.0022488789284446117, hidden_layer_sizes=(27, 92), learning_rate=constant, learning_rate_init=0.0020719473035147175, solver=sgd \n"
          ],
          "name": "stdout"
        },
        {
          "output_type": "stream",
          "text": [
            "/usr/local/lib/python3.6/dist-packages/sklearn/neural_network/multilayer_perceptron.py:566: ConvergenceWarning: Stochastic Optimizer: Maximum iterations (100) reached and the optimization hasn't converged yet.\n",
            "  % self.max_iter, ConvergenceWarning)\n"
          ],
          "name": "stderr"
        },
        {
          "output_type": "stream",
          "text": [
            "[CV]  activation=relu, alpha=0.0022488789284446117, hidden_layer_sizes=(27, 92), learning_rate=constant, learning_rate_init=0.0020719473035147175, solver=sgd, score=0.873, total=   1.4s\n",
            "[CV] activation=relu, alpha=0.0022488789284446117, hidden_layer_sizes=(27, 92), learning_rate=constant, learning_rate_init=0.0020719473035147175, solver=sgd \n"
          ],
          "name": "stdout"
        },
        {
          "output_type": "stream",
          "text": [
            "/usr/local/lib/python3.6/dist-packages/sklearn/neural_network/multilayer_perceptron.py:566: ConvergenceWarning: Stochastic Optimizer: Maximum iterations (100) reached and the optimization hasn't converged yet.\n",
            "  % self.max_iter, ConvergenceWarning)\n"
          ],
          "name": "stderr"
        },
        {
          "output_type": "stream",
          "text": [
            "[CV]  activation=relu, alpha=0.0022488789284446117, hidden_layer_sizes=(27, 92), learning_rate=constant, learning_rate_init=0.0020719473035147175, solver=sgd, score=0.862, total=   1.4s\n",
            "[CV] activation=tanh, alpha=0.01876598928124001, hidden_layer_sizes=(5, 68, 37), learning_rate=constant, learning_rate_init=0.00024155141311938758, solver=sgd \n"
          ],
          "name": "stdout"
        },
        {
          "output_type": "stream",
          "text": [
            "/usr/local/lib/python3.6/dist-packages/sklearn/neural_network/multilayer_perceptron.py:566: ConvergenceWarning: Stochastic Optimizer: Maximum iterations (100) reached and the optimization hasn't converged yet.\n",
            "  % self.max_iter, ConvergenceWarning)\n"
          ],
          "name": "stderr"
        },
        {
          "output_type": "stream",
          "text": [
            "[CV]  activation=tanh, alpha=0.01876598928124001, hidden_layer_sizes=(5, 68, 37), learning_rate=constant, learning_rate_init=0.00024155141311938758, solver=sgd, score=0.864, total=   1.8s\n",
            "[CV] activation=tanh, alpha=0.01876598928124001, hidden_layer_sizes=(5, 68, 37), learning_rate=constant, learning_rate_init=0.00024155141311938758, solver=sgd \n"
          ],
          "name": "stdout"
        },
        {
          "output_type": "stream",
          "text": [
            "/usr/local/lib/python3.6/dist-packages/sklearn/neural_network/multilayer_perceptron.py:566: ConvergenceWarning: Stochastic Optimizer: Maximum iterations (100) reached and the optimization hasn't converged yet.\n",
            "  % self.max_iter, ConvergenceWarning)\n"
          ],
          "name": "stderr"
        },
        {
          "output_type": "stream",
          "text": [
            "[CV]  activation=tanh, alpha=0.01876598928124001, hidden_layer_sizes=(5, 68, 37), learning_rate=constant, learning_rate_init=0.00024155141311938758, solver=sgd, score=0.866, total=   1.8s\n",
            "[CV] activation=tanh, alpha=0.01876598928124001, hidden_layer_sizes=(5, 68, 37), learning_rate=constant, learning_rate_init=0.00024155141311938758, solver=sgd \n"
          ],
          "name": "stdout"
        },
        {
          "output_type": "stream",
          "text": [
            "/usr/local/lib/python3.6/dist-packages/sklearn/neural_network/multilayer_perceptron.py:566: ConvergenceWarning: Stochastic Optimizer: Maximum iterations (100) reached and the optimization hasn't converged yet.\n",
            "  % self.max_iter, ConvergenceWarning)\n"
          ],
          "name": "stderr"
        },
        {
          "output_type": "stream",
          "text": [
            "[CV]  activation=tanh, alpha=0.01876598928124001, hidden_layer_sizes=(5, 68, 37), learning_rate=constant, learning_rate_init=0.00024155141311938758, solver=sgd, score=0.866, total=   1.8s\n",
            "[CV] activation=tanh, alpha=0.01876598928124001, hidden_layer_sizes=(5, 68, 37), learning_rate=constant, learning_rate_init=0.00024155141311938758, solver=sgd \n"
          ],
          "name": "stdout"
        },
        {
          "output_type": "stream",
          "text": [
            "/usr/local/lib/python3.6/dist-packages/sklearn/neural_network/multilayer_perceptron.py:566: ConvergenceWarning: Stochastic Optimizer: Maximum iterations (100) reached and the optimization hasn't converged yet.\n",
            "  % self.max_iter, ConvergenceWarning)\n",
            "[Parallel(n_jobs=1)]: Done  40 out of  40 | elapsed:  1.1min finished\n"
          ],
          "name": "stderr"
        },
        {
          "output_type": "stream",
          "text": [
            "[CV]  activation=tanh, alpha=0.01876598928124001, hidden_layer_sizes=(5, 68, 37), learning_rate=constant, learning_rate_init=0.00024155141311938758, solver=sgd, score=0.866, total=   1.8s\n"
          ],
          "name": "stdout"
        },
        {
          "output_type": "stream",
          "text": [
            "/usr/local/lib/python3.6/dist-packages/sklearn/neural_network/multilayer_perceptron.py:566: ConvergenceWarning: Stochastic Optimizer: Maximum iterations (100) reached and the optimization hasn't converged yet.\n",
            "  % self.max_iter, ConvergenceWarning)\n"
          ],
          "name": "stderr"
        },
        {
          "output_type": "execute_result",
          "data": {
            "text/plain": [
              "RandomizedSearchCV(cv=4, error_score='raise-deprecating',\n",
              "                   estimator=MLPClassifier(activation='relu', alpha=0.0001,\n",
              "                                           batch_size='auto', beta_1=0.9,\n",
              "                                           beta_2=0.999, early_stopping=False,\n",
              "                                           epsilon=1e-08,\n",
              "                                           hidden_layer_sizes=(100,),\n",
              "                                           learning_rate='constant',\n",
              "                                           learning_rate_init=0.001,\n",
              "                                           max_iter=100, momentum=0.9,\n",
              "                                           n_iter_no_change=10,\n",
              "                                           nesterovs_momentum=True, power_t=0.5,\n",
              "                                           rand...\n",
              "                                        'alpha': <scipy.stats._distn_infrastructure.rv_frozen object at 0x7efee3ad9550>,\n",
              "                                        'hidden_layer_sizes': [(62, 20, 80, 58),\n",
              "                                                               (5, 68, 37),\n",
              "                                                               (27, 92),\n",
              "                                                               (70,)],\n",
              "                                        'learning_rate': ['constant',\n",
              "                                                          'adaptive'],\n",
              "                                        'learning_rate_init': <scipy.stats._distn_infrastructure.rv_frozen object at 0x7efee3ad9780>,\n",
              "                                        'solver': ['sgd', 'adam', 'lbfgs']},\n",
              "                   pre_dispatch='2*n_jobs', random_state=None, refit=True,\n",
              "                   return_train_score=False, scoring=None, verbose=5)"
            ]
          },
          "metadata": {
            "tags": []
          },
          "execution_count": 20
        }
      ]
    },
    {
      "cell_type": "code",
      "metadata": {
        "id": "InimBki8lsjw",
        "colab_type": "code",
        "outputId": "f4c8bc8f-611f-4eb0-da6a-5a288481f9d5",
        "colab": {
          "base_uri": "https://localhost:8080/",
          "height": 230
        }
      },
      "source": [
        "# Best parameter set\n",
        "print('Best parameters found:\\n', random_search.best_params_)\n",
        "\n",
        "# All results\n",
        "means = random_search.cv_results_['mean_test_score']\n",
        "stds = random_search.cv_results_['std_test_score']\n",
        "for mean, std, params in zip(means, stds, random_search.cv_results_['params']):\n",
        "    print(\"%0.3f (+/-%0.03f) for %r\" % (mean, std * 2, params))"
      ],
      "execution_count": 21,
      "outputs": [
        {
          "output_type": "stream",
          "text": [
            "Best parameters found:\n",
            " {'activation': 'tanh', 'alpha': 0.018940922168679448, 'hidden_layer_sizes': (70,), 'learning_rate': 'adaptive', 'learning_rate_init': 0.0007713997545576555, 'solver': 'adam'}\n",
            "0.865 (+/-0.001) for {'activation': 'tanh', 'alpha': 0.008873749889043728, 'hidden_layer_sizes': (5, 68, 37), 'learning_rate': 'adaptive', 'learning_rate_init': 0.000626839428279053, 'solver': 'sgd'}\n",
            "0.809 (+/-0.018) for {'activation': 'relu', 'alpha': 0.0032312890846254716, 'hidden_layer_sizes': (27, 92), 'learning_rate': 'adaptive', 'learning_rate_init': 0.0008775066052608679, 'solver': 'lbfgs'}\n",
            "0.857 (+/-0.013) for {'activation': 'tanh', 'alpha': 0.005846314476543495, 'hidden_layer_sizes': (62, 20, 80, 58), 'learning_rate': 'adaptive', 'learning_rate_init': 0.0005077118290684212, 'solver': 'adam'}\n",
            "0.870 (+/-0.005) for {'activation': 'tanh', 'alpha': 0.018940922168679448, 'hidden_layer_sizes': (70,), 'learning_rate': 'adaptive', 'learning_rate_init': 0.0007713997545576555, 'solver': 'adam'}\n",
            "0.864 (+/-0.003) for {'activation': 'relu', 'alpha': 0.0013423781874160917, 'hidden_layer_sizes': (70,), 'learning_rate': 'constant', 'learning_rate_init': 0.00126247457499768, 'solver': 'sgd'}\n",
            "0.851 (+/-0.032) for {'activation': 'relu', 'alpha': 0.020528840272896535, 'hidden_layer_sizes': (5, 68, 37), 'learning_rate': 'adaptive', 'learning_rate_init': 0.0003808188575491913, 'solver': 'lbfgs'}\n",
            "0.867 (+/-0.012) for {'activation': 'tanh', 'alpha': 0.012036648662848533, 'hidden_layer_sizes': (62, 20, 80, 58), 'learning_rate': 'adaptive', 'learning_rate_init': 0.0013050721752203701, 'solver': 'sgd'}\n",
            "0.825 (+/-0.023) for {'activation': 'tanh', 'alpha': 0.02182277337170008, 'hidden_layer_sizes': (70,), 'learning_rate': 'constant', 'learning_rate_init': 0.00015466454595497713, 'solver': 'lbfgs'}\n",
            "0.868 (+/-0.008) for {'activation': 'relu', 'alpha': 0.0022488789284446117, 'hidden_layer_sizes': (27, 92), 'learning_rate': 'constant', 'learning_rate_init': 0.0020719473035147175, 'solver': 'sgd'}\n",
            "0.865 (+/-0.001) for {'activation': 'tanh', 'alpha': 0.01876598928124001, 'hidden_layer_sizes': (5, 68, 37), 'learning_rate': 'constant', 'learning_rate_init': 0.00024155141311938758, 'solver': 'sgd'}\n"
          ],
          "name": "stdout"
        }
      ]
    },
    {
      "cell_type": "code",
      "metadata": {
        "id": "lFjkSLrflwTe",
        "colab_type": "code",
        "outputId": "bf0917b2-6b97-45fd-9034-74cac1f0c1d9",
        "colab": {
          "base_uri": "https://localhost:8080/",
          "height": 194
        }
      },
      "source": [
        "#score report for model optimized via random search\n",
        "y_true, y_pred = y_test , random_search.predict(testX_scaled)\n",
        "print('Results on the test set:')\n",
        "print(classification_report(y_true, y_pred))"
      ],
      "execution_count": 22,
      "outputs": [
        {
          "output_type": "stream",
          "text": [
            "Results on the test set:\n",
            "              precision    recall  f1-score   support\n",
            "\n",
            "           0       0.76      0.11      0.19       119\n",
            "           1       0.88      1.00      0.94       802\n",
            "\n",
            "    accuracy                           0.88       921\n",
            "   macro avg       0.82      0.55      0.56       921\n",
            "weighted avg       0.87      0.88      0.84       921\n",
            "\n"
          ],
          "name": "stdout"
        }
      ]
    },
    {
      "cell_type": "markdown",
      "metadata": {
        "id": "h-yLnzCsczib",
        "colab_type": "text"
      },
      "source": [
        "# Random Forest Model"
      ]
    },
    {
      "cell_type": "code",
      "metadata": {
        "id": "l_3UbZPlRKgC",
        "colab_type": "code",
        "colab": {}
      },
      "source": [
        "#Split data into train/test\n",
        "from sklearn.model_selection import train_test_split\n",
        "X=cs_all[[1,2,3,4,5,6,7,8,9,10,11,12,13,14,15,16,17,18,19]] #Chemical shift data\n",
        "y=cs_all['stacking'] #one-hot encoded stacking data\n",
        "X_train, X_test, y_train, y_test = train_test_split(X, y, test_size=0.3)"
      ],
      "execution_count": 0,
      "outputs": []
    },
    {
      "cell_type": "code",
      "metadata": {
        "id": "bmU1EzwSqkHt",
        "colab_type": "code",
        "outputId": "799a61af-49cf-4b20-bf9e-7f1a133be79b",
        "colab": {
          "base_uri": "https://localhost:8080/",
          "height": 194
        }
      },
      "source": [
        "#fit and evaluate baseline unoptimized random forest model\n",
        "from sklearn.ensemble import RandomForestClassifier\n",
        "sklearn_model = RandomForestClassifier(n_estimators=100)\n",
        "sklearn_model.fit(X_train, y_train)\n",
        "y_pred=sklearn_model.predict(X_test)\n",
        "# Evaluate it.\n",
        "print('f1 score for predicting stacking')\n",
        "print(classification_report(y_test, y_pred))\n"
      ],
      "execution_count": 26,
      "outputs": [
        {
          "output_type": "stream",
          "text": [
            "f1 score for predicting stacking\n",
            "              precision    recall  f1-score   support\n",
            "\n",
            "           0       0.50      0.10      0.16       125\n",
            "           1       0.87      0.98      0.93       796\n",
            "\n",
            "    accuracy                           0.86       921\n",
            "   macro avg       0.69      0.54      0.54       921\n",
            "weighted avg       0.82      0.86      0.82       921\n",
            "\n"
          ],
          "name": "stdout"
        }
      ]
    },
    {
      "cell_type": "markdown",
      "metadata": {
        "id": "zU4W5WhSpSbU",
        "colab_type": "text"
      },
      "source": [
        "**Hyperparameter Optimization**"
      ]
    },
    {
      "cell_type": "code",
      "metadata": {
        "id": "-eySc8WpnM9T",
        "colab_type": "code",
        "colab": {}
      },
      "source": [
        "# Number of trees in random forest\n",
        "n_estimators = [int(x) for x in np.linspace(start = 200, stop = 2000, num = 10)]\n",
        "# Number of features to consider at every split\n",
        "max_features = ['auto', 'sqrt']\n",
        "# Maximum number of levels in tree\n",
        "max_depth = [int(x) for x in np.linspace(10, 110, num = 11)]\n",
        "max_depth.append(None)\n",
        "# Minimum number of samples required to split a node\n",
        "min_samples_split = [2, 5, 10]\n",
        "# Minimum number of samples required at each leaf node\n",
        "min_samples_leaf = [1, 2, 4]\n",
        "# Method of selecting samples for training each tree\n",
        "bootstrap = [True, False]"
      ],
      "execution_count": 0,
      "outputs": []
    },
    {
      "cell_type": "code",
      "metadata": {
        "id": "5Rmm1C60nOAj",
        "colab_type": "code",
        "colab": {}
      },
      "source": [
        "random_grid = {'n_estimators': n_estimators,\n",
        "               'max_features': max_features,\n",
        "               'max_depth': max_depth,\n",
        "               'min_samples_split': min_samples_split,\n",
        "               'min_samples_leaf': min_samples_leaf,\n",
        "               'bootstrap': bootstrap}"
      ],
      "execution_count": 0,
      "outputs": []
    },
    {
      "cell_type": "code",
      "metadata": {
        "id": "IrV2RVKNnUeh",
        "colab_type": "code",
        "outputId": "a9ca25ce-91f9-40a5-ec96-cd0bb9ab5c3f",
        "colab": {
          "base_uri": "https://localhost:8080/",
          "height": 550
        }
      },
      "source": [
        "rf_random = RandomizedSearchCV(estimator = sklearn_model, param_distributions = random_grid, n_iter = 10, cv = 3, verbose=2, random_state=42, n_jobs = -1)\n",
        "rf_random.fit(X_train, y_train)"
      ],
      "execution_count": 29,
      "outputs": [
        {
          "output_type": "stream",
          "text": [
            "Fitting 3 folds for each of 10 candidates, totalling 30 fits\n"
          ],
          "name": "stdout"
        },
        {
          "output_type": "stream",
          "text": [
            "[Parallel(n_jobs=-1)]: Using backend LokyBackend with 2 concurrent workers.\n",
            "[Parallel(n_jobs=-1)]: Done  30 out of  30 | elapsed:  2.1min finished\n"
          ],
          "name": "stderr"
        },
        {
          "output_type": "execute_result",
          "data": {
            "text/plain": [
              "RandomizedSearchCV(cv=3, error_score='raise-deprecating',\n",
              "                   estimator=RandomForestClassifier(bootstrap=True,\n",
              "                                                    class_weight=None,\n",
              "                                                    criterion='gini',\n",
              "                                                    max_depth=None,\n",
              "                                                    max_features='auto',\n",
              "                                                    max_leaf_nodes=None,\n",
              "                                                    min_impurity_decrease=0.0,\n",
              "                                                    min_impurity_split=None,\n",
              "                                                    min_samples_leaf=1,\n",
              "                                                    min_samples_split=2,\n",
              "                                                    min_weight_fraction_leaf=0.0,\n",
              "                                                    n_estimators=100,\n",
              "                                                    n_jobs=None,\n",
              "                                                    oob_score...\n",
              "                   param_distributions={'bootstrap': [True, False],\n",
              "                                        'max_depth': [10, 20, 30, 40, 50, 60,\n",
              "                                                      70, 80, 90, 100, 110,\n",
              "                                                      None],\n",
              "                                        'max_features': ['auto', 'sqrt'],\n",
              "                                        'min_samples_leaf': [1, 2, 4],\n",
              "                                        'min_samples_split': [2, 5, 10],\n",
              "                                        'n_estimators': [200, 400, 600, 800,\n",
              "                                                         1000, 1200, 1400, 1600,\n",
              "                                                         1800, 2000]},\n",
              "                   pre_dispatch='2*n_jobs', random_state=42, refit=True,\n",
              "                   return_train_score=False, scoring=None, verbose=2)"
            ]
          },
          "metadata": {
            "tags": []
          },
          "execution_count": 29
        }
      ]
    },
    {
      "cell_type": "code",
      "metadata": {
        "id": "ntH5aZx6nrYd",
        "colab_type": "code",
        "outputId": "fa95ac26-53ac-4270-e172-787f10900b05",
        "colab": {
          "base_uri": "https://localhost:8080/",
          "height": 194
        }
      },
      "source": [
        "y_true, y_pred = y_test , rf_random.predict(X_test)\n",
        "print('Results on the test set:')\n",
        "print(classification_report(y_true, y_pred))"
      ],
      "execution_count": 31,
      "outputs": [
        {
          "output_type": "stream",
          "text": [
            "Results on the test set:\n",
            "              precision    recall  f1-score   support\n",
            "\n",
            "           0       0.58      0.15      0.24       125\n",
            "           1       0.88      0.98      0.93       796\n",
            "\n",
            "    accuracy                           0.87       921\n",
            "   macro avg       0.73      0.57      0.58       921\n",
            "weighted avg       0.84      0.87      0.84       921\n",
            "\n"
          ],
          "name": "stdout"
        }
      ]
    },
    {
      "cell_type": "markdown",
      "metadata": {
        "id": "bd7s8Ez_o7Am",
        "colab_type": "text"
      },
      "source": [
        "# Stochastic Gradient Descent (SGD) Classifier Model"
      ]
    },
    {
      "cell_type": "code",
      "metadata": {
        "id": "cIYEjtr0e4BV",
        "colab_type": "code",
        "outputId": "e3269a80-6999-4f4c-adab-4061f09df0fd",
        "colab": {
          "base_uri": "https://localhost:8080/",
          "height": 230
        }
      },
      "source": [
        "#fit and evaluate unoptimized SGD model\n",
        "from sklearn.linear_model import SGDClassifier\n",
        "clf = SGDClassifier(loss=\"log\", penalty=\"l2\", max_iter=100, shuffle=True)\n",
        "clf.fit(X_train, y_train)\n",
        "y_pred=clf.predict(X_test)\n",
        "print('f1 score for predicting stacking')\n",
        "print(classification_report(y_test, y_pred))"
      ],
      "execution_count": 32,
      "outputs": [
        {
          "output_type": "stream",
          "text": [
            "f1 score for predicting stacking\n",
            "              precision    recall  f1-score   support\n",
            "\n",
            "           0       0.35      0.26      0.30       125\n",
            "           1       0.89      0.92      0.91       796\n",
            "\n",
            "    accuracy                           0.83       921\n",
            "   macro avg       0.62      0.59      0.60       921\n",
            "weighted avg       0.82      0.83      0.82       921\n",
            "\n"
          ],
          "name": "stdout"
        },
        {
          "output_type": "stream",
          "text": [
            "/usr/local/lib/python3.6/dist-packages/sklearn/linear_model/stochastic_gradient.py:561: ConvergenceWarning: Maximum number of iteration reached before convergence. Consider increasing max_iter to improve the fit.\n",
            "  ConvergenceWarning)\n"
          ],
          "name": "stderr"
        }
      ]
    },
    {
      "cell_type": "markdown",
      "metadata": {
        "id": "Xz2aS8FjpZV9",
        "colab_type": "text"
      },
      "source": [
        "**Hyperparameter Optimization**"
      ]
    },
    {
      "cell_type": "code",
      "metadata": {
        "id": "mb0c7PfnlBsg",
        "colab_type": "code",
        "outputId": "a43877e4-a122-4f41-971d-58e8eaa43407",
        "colab": {
          "base_uri": "https://localhost:8080/",
          "height": 196
        }
      },
      "source": [
        "loss = ['hinge', 'log', 'modified_huber', 'squared_hinge', 'perceptron']\n",
        "penalty = ['l1', 'l2', 'elasticnet']\n",
        "alpha = [0.0001, 0.001, 0.01, 0.1, 1, 10, 100, 1000]\n",
        "learning_rate = ['constant', 'optimal', 'invscaling', 'adaptive']\n",
        "class_weight = [{1:0.5, 0:0.5}, {1:0.4, 0:0.6}, {1:0.6, 0:0.4}, {1:0.7, 0:0.3}]\n",
        "eta0 = [1, 10, 100]\n",
        "\n",
        "param_distributions = dict(loss=loss,\n",
        "                           penalty=penalty,\n",
        "                           alpha=alpha,\n",
        "                           learning_rate=learning_rate,\n",
        "                           class_weight=class_weight,\n",
        "                           eta0=eta0)\n",
        "random = RandomizedSearchCV(estimator=clf,\n",
        "                            param_distributions=param_distributions,\n",
        "                            scoring=None,\n",
        "                            verbose=1, n_jobs=-1,\n",
        "                            n_iter=10)\n",
        "random_result = random.fit(X_train, y_train)\n",
        "\n",
        "print('Best Score: ', random_result.best_score_)\n",
        "print('Best Params: ', random_result.best_params_)"
      ],
      "execution_count": 33,
      "outputs": [
        {
          "output_type": "stream",
          "text": [
            "/usr/local/lib/python3.6/dist-packages/sklearn/model_selection/_split.py:1978: FutureWarning: The default value of cv will change from 3 to 5 in version 0.22. Specify it explicitly to silence this warning.\n",
            "  warnings.warn(CV_WARNING, FutureWarning)\n",
            "[Parallel(n_jobs=-1)]: Using backend LokyBackend with 2 concurrent workers.\n"
          ],
          "name": "stderr"
        },
        {
          "output_type": "stream",
          "text": [
            "Fitting 3 folds for each of 10 candidates, totalling 30 fits\n",
            "Best Score:  0.8681881695388914\n",
            "Best Params:  {'penalty': 'l1', 'loss': 'squared_hinge', 'learning_rate': 'constant', 'eta0': 10, 'class_weight': {1: 0.5, 0: 0.5}, 'alpha': 1000}\n"
          ],
          "name": "stdout"
        },
        {
          "output_type": "stream",
          "text": [
            "[Parallel(n_jobs=-1)]: Done  30 out of  30 | elapsed:    4.3s finished\n",
            "/usr/local/lib/python3.6/dist-packages/sklearn/model_selection/_search.py:814: DeprecationWarning: The default of the `iid` parameter will change from True to False in version 0.22 and will be removed in 0.24. This will change numeric results when test-set sizes are unequal.\n",
            "  DeprecationWarning)\n"
          ],
          "name": "stderr"
        }
      ]
    },
    {
      "cell_type": "code",
      "metadata": {
        "id": "ZqdwQhWBmQsj",
        "colab_type": "code",
        "outputId": "d5381edc-7a8f-4ce1-ffa9-984b271f332e",
        "colab": {
          "base_uri": "https://localhost:8080/",
          "height": 194
        }
      },
      "source": [
        "#evaluation of the optimized model\n",
        "y_true, y_pred = (y_test) , random.predict(X_test)\n",
        "print('Results on the test set:')\n",
        "print(classification_report(y_true, y_pred))"
      ],
      "execution_count": 34,
      "outputs": [
        {
          "output_type": "stream",
          "text": [
            "Results on the test set:\n",
            "              precision    recall  f1-score   support\n",
            "\n",
            "           0       0.00      0.00      0.00       125\n",
            "           1       0.86      1.00      0.93       796\n",
            "\n",
            "    accuracy                           0.86       921\n",
            "   macro avg       0.43      0.50      0.46       921\n",
            "weighted avg       0.75      0.86      0.80       921\n",
            "\n"
          ],
          "name": "stdout"
        }
      ]
    },
    {
      "cell_type": "markdown",
      "metadata": {
        "id": "MMQun47-rWSB",
        "colab_type": "text"
      },
      "source": [
        "# SASA Models"
      ]
    },
    {
      "cell_type": "code",
      "metadata": {
        "id": "SRN3PeCc3-Or",
        "colab_type": "code",
        "colab": {}
      },
      "source": [
        "#load the SASA dataset into a Pandas dataframe\n",
        "import pandas as pd\n",
        "import io\n",
        "import requests\n",
        "url=\"https://drive.google.com/uc?id=1Y3Imx-lTjGKCQAFqEKTbaMSzFARtwEFN\"\n",
        "s=requests.get(url).content\n",
        "sasa=pd.read_csv(io.StringIO(s.decode(\"utf-8\")), sep=\" \")"
      ],
      "execution_count": 0,
      "outputs": []
    },
    {
      "cell_type": "code",
      "metadata": {
        "id": "ZCHmFc7v41Py",
        "colab_type": "code",
        "outputId": "849e5db1-258e-492c-db80-7311213c67e4",
        "colab": {
          "base_uri": "https://localhost:8080/",
          "height": 406
        }
      },
      "source": [
        "sasa"
      ],
      "execution_count": 0,
      "outputs": [
        {
          "output_type": "execute_result",
          "data": {
            "text/html": [
              "<div>\n",
              "<style scoped>\n",
              "    .dataframe tbody tr th:only-of-type {\n",
              "        vertical-align: middle;\n",
              "    }\n",
              "\n",
              "    .dataframe tbody tr th {\n",
              "        vertical-align: top;\n",
              "    }\n",
              "\n",
              "    .dataframe thead th {\n",
              "        text-align: right;\n",
              "    }\n",
              "</style>\n",
              "<table border=\"1\" class=\"dataframe\">\n",
              "  <thead>\n",
              "    <tr style=\"text-align: right;\">\n",
              "      <th></th>\n",
              "      <th>id</th>\n",
              "      <th>resname</th>\n",
              "      <th>resid</th>\n",
              "      <th>sasa-All-atoms</th>\n",
              "      <th>sasa-Total-Side</th>\n",
              "      <th>sasa-Main-Chain</th>\n",
              "      <th>sasa-Non-polar</th>\n",
              "      <th>sasa-All-polar</th>\n",
              "    </tr>\n",
              "  </thead>\n",
              "  <tbody>\n",
              "    <tr>\n",
              "      <th>0</th>\n",
              "      <td>1A60</td>\n",
              "      <td>GUA</td>\n",
              "      <td>1</td>\n",
              "      <td>134.15</td>\n",
              "      <td>73.92</td>\n",
              "      <td>60.23</td>\n",
              "      <td>31.95</td>\n",
              "      <td>102.20</td>\n",
              "    </tr>\n",
              "    <tr>\n",
              "      <th>1</th>\n",
              "      <td>1A60</td>\n",
              "      <td>GUA</td>\n",
              "      <td>2</td>\n",
              "      <td>172.00</td>\n",
              "      <td>56.91</td>\n",
              "      <td>115.09</td>\n",
              "      <td>38.57</td>\n",
              "      <td>133.43</td>\n",
              "    </tr>\n",
              "    <tr>\n",
              "      <th>2</th>\n",
              "      <td>1A60</td>\n",
              "      <td>GUA</td>\n",
              "      <td>3</td>\n",
              "      <td>187.59</td>\n",
              "      <td>58.90</td>\n",
              "      <td>128.68</td>\n",
              "      <td>52.70</td>\n",
              "      <td>134.89</td>\n",
              "    </tr>\n",
              "    <tr>\n",
              "      <th>3</th>\n",
              "      <td>1A60</td>\n",
              "      <td>ADE</td>\n",
              "      <td>4</td>\n",
              "      <td>186.44</td>\n",
              "      <td>56.18</td>\n",
              "      <td>130.26</td>\n",
              "      <td>57.02</td>\n",
              "      <td>129.43</td>\n",
              "    </tr>\n",
              "    <tr>\n",
              "      <th>4</th>\n",
              "      <td>1A60</td>\n",
              "      <td>GUA</td>\n",
              "      <td>5</td>\n",
              "      <td>204.31</td>\n",
              "      <td>87.69</td>\n",
              "      <td>116.62</td>\n",
              "      <td>37.60</td>\n",
              "      <td>166.72</td>\n",
              "    </tr>\n",
              "    <tr>\n",
              "      <th>...</th>\n",
              "      <td>...</td>\n",
              "      <td>...</td>\n",
              "      <td>...</td>\n",
              "      <td>...</td>\n",
              "      <td>...</td>\n",
              "      <td>...</td>\n",
              "      <td>...</td>\n",
              "      <td>...</td>\n",
              "    </tr>\n",
              "    <tr>\n",
              "      <th>3069</th>\n",
              "      <td>5WQ1</td>\n",
              "      <td>URA</td>\n",
              "      <td>19</td>\n",
              "      <td>179.58</td>\n",
              "      <td>63.37</td>\n",
              "      <td>116.20</td>\n",
              "      <td>50.90</td>\n",
              "      <td>128.68</td>\n",
              "    </tr>\n",
              "    <tr>\n",
              "      <th>3070</th>\n",
              "      <td>5WQ1</td>\n",
              "      <td>GUA</td>\n",
              "      <td>20</td>\n",
              "      <td>182.04</td>\n",
              "      <td>56.29</td>\n",
              "      <td>125.76</td>\n",
              "      <td>44.80</td>\n",
              "      <td>137.24</td>\n",
              "    </tr>\n",
              "    <tr>\n",
              "      <th>3071</th>\n",
              "      <td>5WQ1</td>\n",
              "      <td>URA</td>\n",
              "      <td>21</td>\n",
              "      <td>177.15</td>\n",
              "      <td>57.36</td>\n",
              "      <td>119.79</td>\n",
              "      <td>51.42</td>\n",
              "      <td>125.72</td>\n",
              "    </tr>\n",
              "    <tr>\n",
              "      <th>3072</th>\n",
              "      <td>5WQ1</td>\n",
              "      <td>CYT</td>\n",
              "      <td>22</td>\n",
              "      <td>178.28</td>\n",
              "      <td>54.11</td>\n",
              "      <td>124.17</td>\n",
              "      <td>53.80</td>\n",
              "      <td>124.48</td>\n",
              "    </tr>\n",
              "    <tr>\n",
              "      <th>3073</th>\n",
              "      <td>5WQ1</td>\n",
              "      <td>CYT</td>\n",
              "      <td>23</td>\n",
              "      <td>271.43</td>\n",
              "      <td>89.64</td>\n",
              "      <td>181.79</td>\n",
              "      <td>87.47</td>\n",
              "      <td>183.96</td>\n",
              "    </tr>\n",
              "  </tbody>\n",
              "</table>\n",
              "<p>3074 rows × 8 columns</p>\n",
              "</div>"
            ],
            "text/plain": [
              "        id resname  resid  ...  sasa-Main-Chain  sasa-Non-polar  sasa-All-polar\n",
              "0     1A60     GUA      1  ...            60.23           31.95          102.20\n",
              "1     1A60     GUA      2  ...           115.09           38.57          133.43\n",
              "2     1A60     GUA      3  ...           128.68           52.70          134.89\n",
              "3     1A60     ADE      4  ...           130.26           57.02          129.43\n",
              "4     1A60     GUA      5  ...           116.62           37.60          166.72\n",
              "...    ...     ...    ...  ...              ...             ...             ...\n",
              "3069  5WQ1     URA     19  ...           116.20           50.90          128.68\n",
              "3070  5WQ1     GUA     20  ...           125.76           44.80          137.24\n",
              "3071  5WQ1     URA     21  ...           119.79           51.42          125.72\n",
              "3072  5WQ1     CYT     22  ...           124.17           53.80          124.48\n",
              "3073  5WQ1     CYT     23  ...           181.79           87.47          183.96\n",
              "\n",
              "[3074 rows x 8 columns]"
            ]
          },
          "metadata": {
            "tags": []
          },
          "execution_count": 195
        }
      ]
    },
    {
      "cell_type": "markdown",
      "metadata": {
        "id": "tyE55JqoJ3U9",
        "colab_type": "text"
      },
      "source": [
        "**Model to predict sasa all atoms**"
      ]
    },
    {
      "cell_type": "code",
      "metadata": {
        "id": "g28gWe00Cgy-",
        "colab_type": "code",
        "colab": {}
      },
      "source": [
        "#define training features and target, split the dataset into train/test \n",
        "from sklearn.model_selection import train_test_split\n",
        "X=sasa[['sasa-Total-Side','sasa-Main-Chain', 'sasa-Non-polar', 'sasa-All-polar']] \n",
        "y=sasa['sasa-All-atoms'] \n",
        "X_train, X_test, y_train, y_test = train_test_split(X, y, test_size=0.3)"
      ],
      "execution_count": 0,
      "outputs": []
    },
    {
      "cell_type": "code",
      "metadata": {
        "id": "Nq86iWXOFuRb",
        "colab_type": "code",
        "outputId": "1c818a50-4bd0-444d-9745-08fdb4e4b159",
        "colab": {
          "base_uri": "https://localhost:8080/",
          "height": 70
        }
      },
      "source": [
        "#unoptimized random forest regression model train and evaluate\n",
        "from sklearn.ensemble import RandomForestRegressor\n",
        "from sklearn.metrics import r2_score\n",
        "sklearn_model = RandomForestRegressor(n_estimators=100)\n",
        "sklearn_model.fit(X_train, y_train)\n",
        "y_pred=sklearn_model.predict(X_test)\n",
        "# Evaluate it.\n",
        "print('R2 score for sasa all')\n",
        "print(sklearn_model.score(X_test, y_test))\n",
        "print(r2_score(y_test,y_pred))"
      ],
      "execution_count": 37,
      "outputs": [
        {
          "output_type": "stream",
          "text": [
            "R2 score for sasa all\n",
            "0.9951311291543415\n",
            "0.9951311291543414\n"
          ],
          "name": "stdout"
        }
      ]
    },
    {
      "cell_type": "markdown",
      "metadata": {
        "id": "TqTmiGCNKCWF",
        "colab_type": "text"
      },
      "source": [
        "**Model to Predict sasa total for side chains**"
      ]
    },
    {
      "cell_type": "code",
      "metadata": {
        "id": "cKroYeJwIt1U",
        "colab_type": "code",
        "colab": {}
      },
      "source": [
        "#define training features and target, split the dataset into train/test \n",
        "from sklearn.model_selection import train_test_split\n",
        "X=sasa[['sasa-All-atoms','sasa-Main-Chain', 'sasa-Non-polar', 'sasa-All-polar']] \n",
        "y=sasa['sasa-Total-Side'] \n",
        "X_train, X_test, y_train, y_test = train_test_split(X, y, test_size=0.3)"
      ],
      "execution_count": 0,
      "outputs": []
    },
    {
      "cell_type": "code",
      "metadata": {
        "colab_type": "code",
        "outputId": "649e9cc7-ae95-4f72-dad0-73fe295e34d4",
        "id": "M2P_xIWRI-jr",
        "colab": {
          "base_uri": "https://localhost:8080/",
          "height": 70
        }
      },
      "source": [
        "#unoptimized random forest regression model train and evaluate\n",
        "from sklearn.ensemble import RandomForestRegressor\n",
        "from sklearn.metrics import r2_score\n",
        "sklearn_model = RandomForestRegressor(n_estimators=100)\n",
        "sklearn_model.fit(X_train, y_train)\n",
        "y_pred=sklearn_model.predict(X_test)\n",
        "# Evaluate it.\n",
        "print('R2 score for sasa sidechains')\n",
        "print(sklearn_model.score(X_test, y_test))\n",
        "print(r2_score(y_test,y_pred))"
      ],
      "execution_count": 39,
      "outputs": [
        {
          "output_type": "stream",
          "text": [
            "R2 score for sasa sidechains\n",
            "0.9867762563664119\n",
            "0.9867762563664119\n"
          ],
          "name": "stdout"
        }
      ]
    },
    {
      "cell_type": "markdown",
      "metadata": {
        "id": "NbevxN9IKKdN",
        "colab_type": "text"
      },
      "source": [
        "**Model to predict Main Chain sasa**"
      ]
    },
    {
      "cell_type": "code",
      "metadata": {
        "colab_type": "code",
        "id": "5FbhFqmKJH00",
        "colab": {}
      },
      "source": [
        "#define training features and target, split the dataset into train/test\n",
        "from sklearn.model_selection import train_test_split\n",
        "X=sasa[['sasa-All-atoms','sasa-Total-Side', 'sasa-Non-polar', 'sasa-All-polar']] \n",
        "y=sasa['sasa-Main-Chain'] \n",
        "X_train, X_test, y_train, y_test = train_test_split(X, y, test_size=0.3)"
      ],
      "execution_count": 0,
      "outputs": []
    },
    {
      "cell_type": "code",
      "metadata": {
        "colab_type": "code",
        "outputId": "4a3b73dd-77b7-431e-e2a5-ce21df430a16",
        "id": "JOpu2O6KJH03",
        "colab": {
          "base_uri": "https://localhost:8080/",
          "height": 70
        }
      },
      "source": [
        "#unoptimized random forest regression model train and evaluate\n",
        "from sklearn.ensemble import RandomForestRegressor\n",
        "from sklearn.metrics import r2_score\n",
        "sklearn_model = RandomForestRegressor(n_estimators=100)\n",
        "sklearn_model.fit(X_train, y_train)\n",
        "y_pred=sklearn_model.predict(X_test)\n",
        "# Evaluate it.\n",
        "print('R2 score for sasa main chain')\n",
        "print(sklearn_model.score(X_test, y_test))\n",
        "print(r2_score(y_test,y_pred))"
      ],
      "execution_count": 42,
      "outputs": [
        {
          "output_type": "stream",
          "text": [
            "R2 score for sasa main chain\n",
            "0.9598345179305835\n",
            "0.9598345179305835\n"
          ],
          "name": "stdout"
        }
      ]
    },
    {
      "cell_type": "markdown",
      "metadata": {
        "id": "XiPr2hsrKROD",
        "colab_type": "text"
      },
      "source": [
        "**Model to predict non-polar sasa**"
      ]
    },
    {
      "cell_type": "code",
      "metadata": {
        "colab_type": "code",
        "id": "hheLEEz0Jb5g",
        "colab": {}
      },
      "source": [
        "#define training features and target, split the dataset into train/test\n",
        "from sklearn.model_selection import train_test_split\n",
        "X=sasa[['sasa-All-atoms','sasa-Total-Side', 'sasa-Main-Chain', 'sasa-All-polar']] \n",
        "y=sasa['sasa-Non-polar'] \n",
        "X_train, X_test, y_train, y_test = train_test_split(X, y, test_size=0.3)"
      ],
      "execution_count": 0,
      "outputs": []
    },
    {
      "cell_type": "code",
      "metadata": {
        "colab_type": "code",
        "outputId": "f737bfaf-f38a-434a-9a44-dec684773ac8",
        "id": "SJTHDSULJb5l",
        "colab": {
          "base_uri": "https://localhost:8080/",
          "height": 70
        }
      },
      "source": [
        "#unoptimized random forest regression model train and evaluate\n",
        "from sklearn.ensemble import RandomForestRegressor\n",
        "from sklearn.metrics import r2_score\n",
        "sklearn_model = RandomForestRegressor(n_estimators=100)\n",
        "sklearn_model.fit(X_train, y_train)\n",
        "y_pred=sklearn_model.predict(X_test)\n",
        "# Evaluate it.\n",
        "print('R2 score for sasa non-polar')\n",
        "print(sklearn_model.score(X_test, y_test))\n",
        "print(r2_score(y_test,y_pred))"
      ],
      "execution_count": 44,
      "outputs": [
        {
          "output_type": "stream",
          "text": [
            "R2 score for sasa non-polar\n",
            "0.9733997247443472\n",
            "0.9733997247443472\n"
          ],
          "name": "stdout"
        }
      ]
    },
    {
      "cell_type": "markdown",
      "metadata": {
        "id": "_h6S1iFYKcHV",
        "colab_type": "text"
      },
      "source": [
        "**Model to predict sasa for all polar residues**"
      ]
    },
    {
      "cell_type": "code",
      "metadata": {
        "colab_type": "code",
        "id": "CC6w-ZWaJnmu",
        "colab": {}
      },
      "source": [
        "#define training features and target, split the dataset into train/test\n",
        "from sklearn.model_selection import train_test_split\n",
        "X=sasa[['sasa-All-atoms','sasa-Total-Side', 'sasa-Main-Chain', 'sasa-Non-polar']] \n",
        "y=sasa['sasa-All-polar'] \n",
        "X_train, X_test, y_train, y_test = train_test_split(X, y, test_size=0.3)"
      ],
      "execution_count": 0,
      "outputs": []
    },
    {
      "cell_type": "code",
      "metadata": {
        "colab_type": "code",
        "outputId": "5965af13-0306-494f-a0eb-1571b9f5d8d9",
        "id": "_Sje54adJnmx",
        "colab": {
          "base_uri": "https://localhost:8080/",
          "height": 70
        }
      },
      "source": [
        "#unoptimized random forest regression model train and evaluate\n",
        "from sklearn.ensemble import RandomForestRegressor\n",
        "from sklearn.metrics import r2_score\n",
        "sklearn_model = RandomForestRegressor(n_estimators=100)\n",
        "sklearn_model.fit(X_train, y_train)\n",
        "y_pred=sklearn_model.predict(X_test)\n",
        "# Evaluate it.\n",
        "print('R2 score for sasa polar')\n",
        "print(sklearn_model.score(X_test, y_test))\n",
        "print(r2_score(y_test,y_pred))"
      ],
      "execution_count": 46,
      "outputs": [
        {
          "output_type": "stream",
          "text": [
            "R2 score for sasa polar\n",
            "0.987626360676706\n",
            "0.987626360676706\n"
          ],
          "name": "stdout"
        }
      ]
    }
  ]
}